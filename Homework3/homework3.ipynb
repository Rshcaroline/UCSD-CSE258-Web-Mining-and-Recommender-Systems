{
 "cells": [
  {
   "cell_type": "markdown",
   "metadata": {},
   "source": [
    "# Tasks (Read prediction)\n",
    "\n",
    "Since we don’t have access to the test labels, we’ll need to simulate validation/test sets of our own. So, let’s split the training data (‘train Interactions.csv.gz’) as follows:\n",
    "\n",
    "(1) Reviews 1-190,000 for training\n",
    "\n",
    "(2) Reviews 190,001-200,000 for validation\n",
    "\n",
    "(3) Upload to Kaggle for testing only when you have a good model on the validation set. This will save you time (since Kaggle can take several minutes to return results), and prevent you from exceeding your daily submission limit."
   ]
  },
  {
   "cell_type": "code",
   "execution_count": 24,
   "metadata": {},
   "outputs": [],
   "source": [
    "# ============ Environment Setup ============\n",
    "# ignore the warnings\n",
    "import warnings\n",
    "warnings.filterwarnings(\"ignore\")\n",
    "\n",
    "# import some packages\n",
    "import gzip\n",
    "import random\n",
    "import pandas as pd\n",
    "from tqdm.notebook import tqdm\n",
    "from collections import defaultdict\n",
    "\n",
    "def splitDataset(datapath):\n",
    "    \"\"\"\n",
    "    Split the training data (‘train Interactions.csv.gz’) as follows:\n",
    "    (1) Reviews 1-190,000 for training\n",
    "    (2) Reviews 190,001-200,000 for validation\n",
    "    :param datapath:\n",
    "    :return: train, valid as dataframe\n",
    "    \"\"\"\n",
    "    f = gzip.open(datapath, 'rt')\n",
    "    data = pd.read_csv(f)\n",
    "    train, valid = data[:190001], data[190001:]\n",
    "    return data, train, valid\n",
    "\n",
    "data, train, valid = splitDataset(\"./data/train_Interactions.csv.gz\")"
   ]
  },
  {
   "cell_type": "markdown",
   "metadata": {},
   "source": [
    "## Question 1\n",
    "\n",
    "Although we have built a validation set, it only consists of positive samples. For this task we also need examples of user/item pairs that weren’t read. For each entry (user,book) in the validation set, sample a negative entry by randomly choosing a book that user hasn’t read. Evaluate the performance (accuracy) of the baseline model on the validation set you have built (1 mark)."
   ]
  },
  {
   "cell_type": "code",
   "execution_count": 57,
   "metadata": {},
   "outputs": [],
   "source": [
    "def sampleNegative(data, train, valid):\n",
    "    \"\"\"\n",
    "    For each entry (user,book) in the validation set, sample a negative entry\n",
    "        by randomly choosing a book that user hasn’t read.\n",
    "    :param train:\n",
    "    :param valid:\n",
    "    :return:\n",
    "    \"\"\"\n",
    "    valid['read'] = 1\n",
    "    NegValid = valid\n",
    "\n",
    "    userBookDict = {}\n",
    "    print(\"Preprocessing Data userBookDict ...\")\n",
    "    for index, row in tqdm(data.iterrows()):\n",
    "        if row['userID'] not in userBookDict:\n",
    "            userBookDict[row['userID']] = {row['bookID']}\n",
    "        else:\n",
    "            userBookDict[row['userID']].add(row['bookID'])\n",
    "\n",
    "    for index, row in tqdm(valid.iterrows()):\n",
    "        samNegBookID = random.sample(set(data['bookID']) - userBookDict[row['userID']], 1)[0]\n",
    "        NegValid = NegValid.append({'userID': row['userID'], 'bookID': samNegBookID, 'rating': 0, 'read':0}, ignore_index=True)\n",
    "\n",
    "    return NegValid, userBookDict "
   ]
  },
  {
   "cell_type": "code",
   "execution_count": 50,
   "metadata": {},
   "outputs": [
    {
     "name": "stdout",
     "output_type": "stream",
     "text": [
      "Sampling Negative samples ...\n",
      "Preprocessing Data userBookDict ...\n"
     ]
    },
    {
     "data": {
      "application/vnd.jupyter.widget-view+json": {
       "model_id": "635bf824a42e4f63a6f71ad63c0e4bfc",
       "version_major": 2,
       "version_minor": 0
      },
      "text/plain": [
       "HBox(children=(IntProgress(value=1, bar_style='info', max=1), HTML(value='')))"
      ]
     },
     "metadata": {},
     "output_type": "display_data"
    },
    {
     "name": "stdout",
     "output_type": "stream",
     "text": [
      "\n"
     ]
    },
    {
     "data": {
      "application/vnd.jupyter.widget-view+json": {
       "model_id": "932111feb5f94c33bbe05a6abe7d9dcf",
       "version_major": 2,
       "version_minor": 0
      },
      "text/plain": [
       "HBox(children=(IntProgress(value=1, bar_style='info', max=1), HTML(value='')))"
      ]
     },
     "metadata": {},
     "output_type": "display_data"
    },
    {
     "name": "stdout",
     "output_type": "stream",
     "text": [
      "\n",
      "Training ...\n"
     ]
    },
    {
     "data": {
      "application/vnd.jupyter.widget-view+json": {
       "model_id": "9d754698274a4f7b809fc61508a0737d",
       "version_major": 2,
       "version_minor": 0
      },
      "text/plain": [
       "HBox(children=(IntProgress(value=1, bar_style='info', max=1), HTML(value='')))"
      ]
     },
     "metadata": {},
     "output_type": "display_data"
    },
    {
     "name": "stdout",
     "output_type": "stream",
     "text": [
      "\n",
      "Evaluating ...\n"
     ]
    },
    {
     "data": {
      "application/vnd.jupyter.widget-view+json": {
       "model_id": "596398dcd8ea4c23bcbea8ebccfb6e82",
       "version_major": 2,
       "version_minor": 0
      },
      "text/plain": [
       "HBox(children=(IntProgress(value=1, bar_style='info', max=1), HTML(value='')))"
      ]
     },
     "metadata": {},
     "output_type": "display_data"
    },
    {
     "name": "stdout",
     "output_type": "stream",
     "text": [
      "\n",
      "Accuracy on Validation set is 0.644\n"
     ]
    }
   ],
   "source": [
    "def baselineOnValidation():\n",
    "    random.seed(5583)\n",
    "    data, train, valid = splitDataset(\"./data/train_Interactions.csv.gz\")\n",
    "    print(\"Sampling Negative samples ...\")\n",
    "    valid, _ = sampleNegative(data, train, valid)\n",
    "\n",
    "    bookCount = defaultdict(int)\n",
    "    totalRead = 0\n",
    "\n",
    "    print('Training ...')\n",
    "    for index, row in tqdm(train.iterrows()):\n",
    "        bookCount[row['bookID']] += 1\n",
    "        totalRead += 1\n",
    "\n",
    "    mostPopular = [(bookCount[x], x) for x in bookCount]\n",
    "    mostPopular.sort()\n",
    "    mostPopular.reverse()\n",
    "\n",
    "    return1 = set()\n",
    "    count = 0\n",
    "    for ic, i in mostPopular:\n",
    "        count += ic\n",
    "        return1.add(i)\n",
    "        if count > totalRead / 2:\n",
    "            break\n",
    "\n",
    "    print('Evaluating ...')\n",
    "    correct = 0\n",
    "    for index, row in tqdm(valid.iterrows()):\n",
    "        if row['bookID'] in return1:\n",
    "            correct += (row['read'] != 0)\n",
    "        else:\n",
    "            correct += (row['read'] == 0)\n",
    "    \n",
    "    print('Accuracy on Validation set is %.3f' % (correct/len(valid)))\n",
    "\n",
    "baselineOnValidation()"
   ]
  },
  {
   "cell_type": "markdown",
   "metadata": {},
   "source": [
    "## Question 2\n",
    "\n",
    "The existing ‘read prediction’ baseline just returns True if the item in question is ‘popular,’ using a threshold of the 50th percentile of popularity (totalRead/2). Assuming that the ‘non-read’ test examples are a random sample of user-book pairs, this threshold may not be the best one. See if you can find a better threshold and report its performance on your validatin set (1 mark)."
   ]
  },
  {
   "cell_type": "code",
   "execution_count": 51,
   "metadata": {},
   "outputs": [
    {
     "name": "stdout",
     "output_type": "stream",
     "text": [
      "Sampling Negative samples ...\n",
      "Preprocessing Data userBookDict ...\n"
     ]
    },
    {
     "data": {
      "application/vnd.jupyter.widget-view+json": {
       "model_id": "d3031058cf6c4668a83cc09487bb19fa",
       "version_major": 2,
       "version_minor": 0
      },
      "text/plain": [
       "HBox(children=(IntProgress(value=1, bar_style='info', max=1), HTML(value='')))"
      ]
     },
     "metadata": {},
     "output_type": "display_data"
    },
    {
     "name": "stdout",
     "output_type": "stream",
     "text": [
      "\n"
     ]
    },
    {
     "data": {
      "application/vnd.jupyter.widget-view+json": {
       "model_id": "1d2b92a8290b4431b247896851e0e7cb",
       "version_major": 2,
       "version_minor": 0
      },
      "text/plain": [
       "HBox(children=(IntProgress(value=1, bar_style='info', max=1), HTML(value='')))"
      ]
     },
     "metadata": {},
     "output_type": "display_data"
    },
    {
     "name": "stdout",
     "output_type": "stream",
     "text": [
      "\n",
      "Training ...\n",
      "Evaluating on threshold 1 ...\n",
      "Evaluating on threshold 2 ...\n",
      "Evaluating on threshold 3 ...\n",
      "Evaluating on threshold 4 ...\n",
      "Evaluating on threshold 5 ...\n",
      "Evaluating on threshold 6 ...\n",
      "Evaluating on threshold 7 ...\n",
      "Evaluating on threshold 8 ...\n",
      "Evaluating on threshold 9 ...\n",
      "Evaluating on threshold 10 ...\n"
     ]
    },
    {
     "data": {
      "image/png": "[encoded data removed]",
      "text/plain": [
       "<Figure size 432x288 with 1 Axes>"
      ]
     },
     "metadata": {
      "needs_background": "light"
     },
     "output_type": "display_data"
    }
   ],
   "source": [
    "import matplotlib.pyplot as plt\n",
    "\n",
    "def baselineOnValidation():\n",
    "    random.seed(5583)\n",
    "    data, train, valid = splitDataset(\"./data/train_Interactions.csv.gz\")\n",
    "    print(\"Sampling Negative samples ...\")\n",
    "    valid, _ = sampleNegative(data, train, valid)\n",
    "    \n",
    "    acc = []\n",
    "    thresholds = list(range(1, 11))\n",
    "    \n",
    "    bookCount = defaultdict(int)\n",
    "    totalRead = 0\n",
    "\n",
    "    print('Training ...')\n",
    "    for index, row in train.iterrows():\n",
    "        bookCount[row['bookID']] += 1\n",
    "        totalRead += 1\n",
    "\n",
    "    mostPopular = [(bookCount[x], x) for x in bookCount]\n",
    "    mostPopular.sort()\n",
    "    mostPopular.reverse()\n",
    "\n",
    "    for threshold in thresholds:\n",
    "        return1 = set()\n",
    "        count = 0\n",
    "        for ic, i in mostPopular:\n",
    "            count += ic\n",
    "            return1.add(i)\n",
    "            if count > totalRead / threshold:\n",
    "                break\n",
    "\n",
    "        print('Evaluating on threshold %d ...' % threshold)\n",
    "        correct = 0\n",
    "        for index, row in valid.iterrows():\n",
    "            if row['bookID'] in return1:\n",
    "                correct += (row['read'] != 0)\n",
    "            else:\n",
    "                correct += (row['read'] == 0)\n",
    "\n",
    "        acc.append(correct/len(valid))\n",
    "\n",
    "    plt.plot(thresholds, acc, 'b-')\n",
    "    plt.xlabel('Threshold')\n",
    "    plt.ylabel('Accuracy on Validation Set for different thresholds')\n",
    "    plt.show()\n",
    "    \n",
    "baselineOnValidation()"
   ]
  },
  {
   "cell_type": "markdown",
   "metadata": {},
   "source": [
    "As we can see, the best accuracy on validation set was achieved at threshold around $1.9$. And the accuracy is around $0.647$."
   ]
  },
  {
   "cell_type": "markdown",
   "metadata": {},
   "source": [
    "## Question 3\n",
    "\n",
    "A stronger baseline than the one provided might make use of the Jaccard similarity (or another similarity metric). Given a pair (u, b) in the validation set, consider all training items b′ that user u has read. For each, compute the Jaccard similarity between b and b', i.e., users (in the training set) who have read b and users who have read b'. Predict as ‘read’ if the maximum of these Jaccard similarities exceeds a threshold (you may choose the threshold that works best). Report the performance on your validation set (1 mark)."
   ]
  },
  {
   "cell_type": "code",
   "execution_count": 62,
   "metadata": {},
   "outputs": [
    {
     "name": "stdout",
     "output_type": "stream",
     "text": [
      "Sampling Negative samples ...\n",
      "Preprocessing Data userBookDict ...\n"
     ]
    },
    {
     "data": {
      "application/vnd.jupyter.widget-view+json": {
       "model_id": "7a293fbba8e14d4c838a046a5bea1c23",
       "version_major": 2,
       "version_minor": 0
      },
      "text/plain": [
       "HBox(children=(IntProgress(value=1, bar_style='info', max=1), HTML(value='')))"
      ]
     },
     "metadata": {},
     "output_type": "display_data"
    },
    {
     "name": "stdout",
     "output_type": "stream",
     "text": [
      "\n"
     ]
    },
    {
     "data": {
      "application/vnd.jupyter.widget-view+json": {
       "model_id": "505326c372ba4c539502e6114528c3db",
       "version_major": 2,
       "version_minor": 0
      },
      "text/plain": [
       "HBox(children=(IntProgress(value=1, bar_style='info', max=1), HTML(value='')))"
      ]
     },
     "metadata": {},
     "output_type": "display_data"
    },
    {
     "name": "stdout",
     "output_type": "stream",
     "text": [
      "\n"
     ]
    },
    {
     "data": {
      "application/vnd.jupyter.widget-view+json": {
       "model_id": "f82b10f4982347c7906681c53f1031d1",
       "version_major": 2,
       "version_minor": 0
      },
      "text/plain": [
       "HBox(children=(IntProgress(value=1, bar_style='info', max=1), HTML(value='')))"
      ]
     },
     "metadata": {},
     "output_type": "display_data"
    },
    {
     "name": "stdout",
     "output_type": "stream",
     "text": [
      "\n"
     ]
    }
   ],
   "source": [
    "random.seed(5583)\n",
    "data, train, valid = splitDataset(\"./data/train_Interactions.csv.gz\")\n",
    "print(\"Sampling Negative samples ...\")\n",
    "valid, _ = sampleNegative(data, train, valid)\n",
    "\n",
    "userReadBook, BookwasRead = {}, {}\n",
    "for index, row in tqdm(train.iterrows()):\n",
    "    if row['userID'] not in userReadBook:\n",
    "        userReadBook[row['userID']] = {row['bookID']}\n",
    "    else:\n",
    "        userReadBook[row['userID']].add(row['bookID'])\n",
    "    if row['bookID'] not in BookwasRead:\n",
    "        BookwasRead[row['bookID']] = {row['userID']}\n",
    "    else:\n",
    "        BookwasRead[row['bookID']].add(row['userID'])"
   ]
  },
  {
   "cell_type": "code",
   "execution_count": 75,
   "metadata": {},
   "outputs": [
    {
     "name": "stdout",
     "output_type": "stream",
     "text": [
      "Evaluating on threshold 0.500 ...\n"
     ]
    },
    {
     "data": {
      "application/vnd.jupyter.widget-view+json": {
       "model_id": "19418a6fe27345cd9df00d26cb0f61c8",
       "version_major": 2,
       "version_minor": 0
      },
      "text/plain": [
       "HBox(children=(IntProgress(value=1, bar_style='info', max=1), HTML(value='')))"
      ]
     },
     "metadata": {},
     "output_type": "display_data"
    },
    {
     "name": "stdout",
     "output_type": "stream",
     "text": [
      "\n",
      "Evaluating on threshold 0.250 ...\n"
     ]
    },
    {
     "data": {
      "application/vnd.jupyter.widget-view+json": {
       "model_id": "e7b285d037424bdd859f27e200ad9fdc",
       "version_major": 2,
       "version_minor": 0
      },
      "text/plain": [
       "HBox(children=(IntProgress(value=1, bar_style='info', max=1), HTML(value='')))"
      ]
     },
     "metadata": {},
     "output_type": "display_data"
    },
    {
     "name": "stdout",
     "output_type": "stream",
     "text": [
      "\n",
      "Evaluating on threshold 0.125 ...\n"
     ]
    },
    {
     "data": {
      "application/vnd.jupyter.widget-view+json": {
       "model_id": "42609935099e49cabdaadf4f7128484b",
       "version_major": 2,
       "version_minor": 0
      },
      "text/plain": [
       "HBox(children=(IntProgress(value=1, bar_style='info', max=1), HTML(value='')))"
      ]
     },
     "metadata": {},
     "output_type": "display_data"
    },
    {
     "name": "stdout",
     "output_type": "stream",
     "text": [
      "\n",
      "Evaluating on threshold 0.062 ...\n"
     ]
    },
    {
     "data": {
      "application/vnd.jupyter.widget-view+json": {
       "model_id": "fcaa92733ea64f4790cb7da98ebcca56",
       "version_major": 2,
       "version_minor": 0
      },
      "text/plain": [
       "HBox(children=(IntProgress(value=1, bar_style='info', max=1), HTML(value='')))"
      ]
     },
     "metadata": {},
     "output_type": "display_data"
    },
    {
     "name": "stdout",
     "output_type": "stream",
     "text": [
      "\n",
      "Evaluating on threshold 0.031 ...\n"
     ]
    },
    {
     "data": {
      "application/vnd.jupyter.widget-view+json": {
       "model_id": "f4cc1b199c5c4e88b85c8d145eaf1cbe",
       "version_major": 2,
       "version_minor": 0
      },
      "text/plain": [
       "HBox(children=(IntProgress(value=1, bar_style='info', max=1), HTML(value='')))"
      ]
     },
     "metadata": {},
     "output_type": "display_data"
    },
    {
     "name": "stdout",
     "output_type": "stream",
     "text": [
      "\n",
      "Evaluating on threshold 0.016 ...\n"
     ]
    },
    {
     "data": {
      "application/vnd.jupyter.widget-view+json": {
       "model_id": "aafb62fb61e2496f9d8b43a3d75b83f2",
       "version_major": 2,
       "version_minor": 0
      },
      "text/plain": [
       "HBox(children=(IntProgress(value=1, bar_style='info', max=1), HTML(value='')))"
      ]
     },
     "metadata": {},
     "output_type": "display_data"
    },
    {
     "name": "stdout",
     "output_type": "stream",
     "text": [
      "\n",
      "Evaluating on threshold 0.008 ...\n"
     ]
    },
    {
     "data": {
      "application/vnd.jupyter.widget-view+json": {
       "model_id": "b1f18cb2447c402fabfc5f2163c072c4",
       "version_major": 2,
       "version_minor": 0
      },
      "text/plain": [
       "HBox(children=(IntProgress(value=1, bar_style='info', max=1), HTML(value='')))"
      ]
     },
     "metadata": {},
     "output_type": "display_data"
    },
    {
     "name": "stdout",
     "output_type": "stream",
     "text": [
      "\n",
      "Evaluating on threshold 0.004 ...\n"
     ]
    },
    {
     "data": {
      "application/vnd.jupyter.widget-view+json": {
       "model_id": "68e35085b87d4240842db019d01b2852",
       "version_major": 2,
       "version_minor": 0
      },
      "text/plain": [
       "HBox(children=(IntProgress(value=1, bar_style='info', max=1), HTML(value='')))"
      ]
     },
     "metadata": {},
     "output_type": "display_data"
    },
    {
     "name": "stdout",
     "output_type": "stream",
     "text": [
      "\n",
      "Evaluating on threshold 0.002 ...\n"
     ]
    },
    {
     "data": {
      "application/vnd.jupyter.widget-view+json": {
       "model_id": "0f0cb6d7416c4d5f9afef0d5b1dd446f",
       "version_major": 2,
       "version_minor": 0
      },
      "text/plain": [
       "HBox(children=(IntProgress(value=1, bar_style='info', max=1), HTML(value='')))"
      ]
     },
     "metadata": {},
     "output_type": "display_data"
    },
    {
     "name": "stdout",
     "output_type": "stream",
     "text": [
      "\n"
     ]
    },
    {
     "data": {
      "image/png": "[encoded data removed]",
      "text/plain": [
       "<Figure size 432x288 with 1 Axes>"
      ]
     },
     "metadata": {
      "needs_background": "light"
     },
     "output_type": "display_data"
    }
   ],
   "source": [
    "def Jaccard(s1, s2):\n",
    "    numer = len(s1.intersection(s2))\n",
    "    denom = len(s1.union(s2))\n",
    "    return numer / denom\n",
    "\n",
    "thresholds = [1/2**i for i in range(1, 10)]\n",
    "acc = []\n",
    "for threshold in thresholds:\n",
    "    print('Evaluating on threshold %.3f ...' % threshold)\n",
    "    correct = 0\n",
    "    for index, row in tqdm(valid.iterrows()):\n",
    "        userReads = userReadBook[row['userID']]\n",
    "        jac = []\n",
    "        for book in userReads:\n",
    "            if row['bookID'] not in BookwasRead:\n",
    "                jac.append(0)\n",
    "            else:\n",
    "                jac.append(Jaccard(BookwasRead[row['bookID']], BookwasRead[book]))\n",
    "                \n",
    "        if max(jac) > threshold:\n",
    "            correct += (row['read'] != 0)\n",
    "        else:\n",
    "            correct += (row['read'] == 0)\n",
    "    \n",
    "    acc.append(correct/len(valid))\n",
    "\n",
    "plt.plot(thresholds, acc, 'b-')\n",
    "plt.xlabel('Threshold')\n",
    "plt.ylabel('Accuracy on Validation Set for different thresholds')\n",
    "plt.show()"
   ]
  },
  {
   "cell_type": "code",
   "execution_count": 76,
   "metadata": {},
   "outputs": [
    {
     "name": "stdout",
     "output_type": "stream",
     "text": [
      "threshold 0.008, accuracy 0.612\n"
     ]
    }
   ],
   "source": [
    "print('threshold %.3f, accuracy %.3f' % (thresholds[acc.index(max(acc))], max(acc)))"
   ]
  },
  {
   "cell_type": "markdown",
   "metadata": {},
   "source": [
    "## Question 4\n",
    "\n",
    "Improve the above predictor by incorporating both a Jaccard-based threshold and a popularity based threshold. Report the performance on your validation set (1 mark)."
   ]
  },
  {
   "cell_type": "code",
   "execution_count": 77,
   "metadata": {},
   "outputs": [
    {
     "name": "stdout",
     "output_type": "stream",
     "text": [
      "Sampling Negative samples ...\n",
      "Preprocessing Data userBookDict ...\n"
     ]
    },
    {
     "data": {
      "application/vnd.jupyter.widget-view+json": {
       "model_id": "5a91ac97f096415285fa3ae029266643",
       "version_major": 2,
       "version_minor": 0
      },
      "text/plain": [
       "HBox(children=(IntProgress(value=1, bar_style='info', max=1), HTML(value='')))"
      ]
     },
     "metadata": {},
     "output_type": "display_data"
    },
    {
     "name": "stdout",
     "output_type": "stream",
     "text": [
      "\n"
     ]
    },
    {
     "data": {
      "application/vnd.jupyter.widget-view+json": {
       "model_id": "ac136d0f85bb4d75b30172eed5817235",
       "version_major": 2,
       "version_minor": 0
      },
      "text/plain": [
       "HBox(children=(IntProgress(value=1, bar_style='info', max=1), HTML(value='')))"
      ]
     },
     "metadata": {},
     "output_type": "display_data"
    },
    {
     "name": "stdout",
     "output_type": "stream",
     "text": [
      "\n"
     ]
    },
    {
     "data": {
      "application/vnd.jupyter.widget-view+json": {
       "model_id": "c8466281e2c1409fbf08d08026a9e54e",
       "version_major": 2,
       "version_minor": 0
      },
      "text/plain": [
       "HBox(children=(IntProgress(value=1, bar_style='info', max=1), HTML(value='')))"
      ]
     },
     "metadata": {},
     "output_type": "display_data"
    },
    {
     "name": "stdout",
     "output_type": "stream",
     "text": [
      "\n"
     ]
    }
   ],
   "source": [
    "# preprocessing\n",
    "random.seed(5583)\n",
    "data, train, valid = splitDataset(\"./data/train_Interactions.csv.gz\")\n",
    "print(\"Sampling Negative samples ...\")\n",
    "valid, _ = sampleNegative(data, train, valid)\n",
    "\n",
    "userReadBook, BookwasRead = {}, {}\n",
    "for index, row in tqdm(train.iterrows()):\n",
    "    if row['userID'] not in userReadBook:\n",
    "        userReadBook[row['userID']] = {row['bookID']}\n",
    "    else:\n",
    "        userReadBook[row['userID']].add(row['bookID'])\n",
    "    if row['bookID'] not in BookwasRead:\n",
    "        BookwasRead[row['bookID']] = {row['userID']}\n",
    "    else:\n",
    "        BookwasRead[row['bookID']].add(row['userID'])"
   ]
  },
  {
   "cell_type": "code",
   "execution_count": 78,
   "metadata": {},
   "outputs": [
    {
     "name": "stdout",
     "output_type": "stream",
     "text": [
      "Training ...\n"
     ]
    }
   ],
   "source": [
    "bookCount = defaultdict(int)\n",
    "totalRead = 0\n",
    "\n",
    "print('Training ...')\n",
    "for index, row in train.iterrows():\n",
    "    bookCount[row['bookID']] += 1\n",
    "    totalRead += 1\n",
    "\n",
    "mostPopular = [(bookCount[x], x) for x in bookCount]\n",
    "mostPopular.sort()\n",
    "mostPopular.reverse()\n",
    "\n",
    "return1 = set()\n",
    "count = 0\n",
    "for ic, i in mostPopular:\n",
    "    count += ic\n",
    "    return1.add(i)\n",
    "    if count > totalRead / 1.9:\n",
    "        break"
   ]
  },
  {
   "cell_type": "code",
   "execution_count": 84,
   "metadata": {},
   "outputs": [
    {
     "name": "stdout",
     "output_type": "stream",
     "text": [
      "Evaluating ...\n"
     ]
    },
    {
     "data": {
      "application/vnd.jupyter.widget-view+json": {
       "model_id": "0de3d42aaf20409eb02a0f05cbfa300f",
       "version_major": 2,
       "version_minor": 0
      },
      "text/plain": [
       "HBox(children=(IntProgress(value=1, bar_style='info', max=1), HTML(value='')))"
      ]
     },
     "metadata": {},
     "output_type": "display_data"
    },
    {
     "name": "stdout",
     "output_type": "stream",
     "text": [
      "\n",
      "Accuracy is 0.650\n"
     ]
    }
   ],
   "source": [
    "print('Evaluating ...')\n",
    "threshold_jac = 0.008\n",
    "correct = 0\n",
    "for index, row in tqdm(valid.iterrows()):\n",
    "    userReads = userReadBook[row['userID']]\n",
    "    jac = []\n",
    "    for book in userReads:\n",
    "        if row['bookID'] not in BookwasRead:\n",
    "            jac.append(0)\n",
    "        else:\n",
    "            jac.append(Jaccard(BookwasRead[row['bookID']], BookwasRead[book]))\n",
    "\n",
    "    if max(jac) > threshold_jac and row['bookID'] in return1:\n",
    "        correct += (row['read'] != 0)\n",
    "    else:\n",
    "        correct += (row['read'] == 0)\n",
    "\n",
    "print('Accuracy is %.3f' % (correct/len(valid)))"
   ]
  },
  {
   "cell_type": "markdown",
   "metadata": {},
   "source": [
    "## Question 5\n",
    "\n",
    "To run our model on the test set, we’ll have to use the files ‘pairs Read.txt’ to find the reviewerID/itemID pairs about which we have to make predictions. Using that data, run the above model and upload your solution to Kaggle. Tell us your Kaggle user name (1 mark). If you’ve already uploaded a better solution to Kaggle, that’s fine too!"
   ]
  },
  {
   "cell_type": "code",
   "execution_count": 83,
   "metadata": {},
   "outputs": [],
   "source": [
    "predictions = open(\"predictions_Read.txt\", 'w')\n",
    "for l in open(\"./data/pairs_Read.txt\"):\n",
    "    if l.startswith(\"userID\"):\n",
    "        # header\n",
    "        predictions.write(l)\n",
    "        continue\n",
    "    u, b = l.strip().split('-')\n",
    "    threshold_jac = 0.008\n",
    "    userReads = userReadBook[u]\n",
    "    jac = []\n",
    "    for book in userReads:\n",
    "        if b not in BookwasRead:\n",
    "            jac.append(0)\n",
    "        else:\n",
    "            jac.append(Jaccard(BookwasRead[b], BookwasRead[book]))\n",
    "\n",
    "    if max(jac) > threshold_jac and b in return1:\n",
    "        predictions.write(u + '-' + b + \",1\\n\")\n",
    "    else:\n",
    "        predictions.write(u + '-' + b + \",0\\n\")\n",
    "\n",
    "predictions.close()"
   ]
  },
  {
   "cell_type": "markdown",
   "metadata": {},
   "source": [
    "### Kaggle\n",
    "\n",
    "User name: shihanran\n",
    "\n",
    "Display name: Shihan Ran\n",
    "\n",
    "Email: sran@ucsd.edu\n",
    "\n",
    "Public Leaderboard Score: 0.66016"
   ]
  },
  {
   "cell_type": "markdown",
   "metadata": {},
   "source": [
    "# Tasks (Rating prediction)\n",
    "\n",
    "Let’s start by building our training/validation sets much as we did for the first task. This time building a validation set is more straightforward: you can simply use part of the data for validation, and do not need to randomly sample non-read users/books."
   ]
  },
  {
   "cell_type": "markdown",
   "metadata": {},
   "source": [
    "## Question 9\n",
    "\n",
    "Fit a predictor of the form\n",
    "\n",
    "$$\\text { rating (user, item ) } \\simeq \\alpha+\\beta_{\\text {user }}+\\beta_{\\text {item }}$$\n",
    "\n",
    "by fitting the mean and the two bias terms as described in the lecture notes. Use a regularization parameter of $\\lambda = 1$. Report the MSE on the validation set (1 mark)."
   ]
  },
  {
   "cell_type": "code",
   "execution_count": 101,
   "metadata": {},
   "outputs": [],
   "source": [
    "import scipy\n",
    "import scipy.optimize\n",
    "import numpy as np\n",
    "\n",
    "def prediction(user, item):\n",
    "    return alpha + userBiases[user] + itemBiases[item]\n",
    "\n",
    "def MSE(predictions, labels):\n",
    "    differences = [(x-y)**2 for x,y in zip(predictions,labels)]\n",
    "    return sum(differences) / len(differences)\n",
    "\n",
    "def unpack(theta):\n",
    "    global alpha\n",
    "    global userBiases\n",
    "    global itemBiases\n",
    "    alpha = theta[0]\n",
    "    userBiases = dict(zip(users, theta[1:nUsers+1]))\n",
    "    itemBiases = dict(zip(items, theta[1+nUsers:]))\n",
    "    \n",
    "def cost(theta, labels, lamb):\n",
    "    unpack(theta)\n",
    "    predictions = [prediction(d['userID'], d['bookID']) for index, d in train.iterrows()]\n",
    "    cost = MSE(predictions, labels)\n",
    "    print(\"MSE = \" + str(cost))\n",
    "    for u in userBiases:\n",
    "        cost += lamb*userBiases[u]**2\n",
    "    for i in itemBiases:\n",
    "        cost += lamb*itemBiases[i]**2\n",
    "    return cost\n",
    "\n",
    "def derivative(theta, labels, lamb):\n",
    "    unpack(theta)\n",
    "    N = len(train)\n",
    "    dalpha = 0\n",
    "    dUserBiases = defaultdict(float)\n",
    "    dItemBiases = defaultdict(float)\n",
    "    for index, d in train.iterrows():\n",
    "        u,i = d['userID'], d['bookID']\n",
    "        pred = prediction(u, i)\n",
    "        diff = pred - d['rating']\n",
    "        dalpha += 2/N*diff\n",
    "        dUserBiases[u] += 2/N*diff\n",
    "        dItemBiases[i] += 2/N*diff\n",
    "    for u in userBiases:\n",
    "        dUserBiases[u] += 2*lamb*userBiases[u]\n",
    "    for i in itemBiases:\n",
    "        dItemBiases[i] += 2*lamb*itemBiases[i]\n",
    "    dtheta = [dalpha] + [dUserBiases[u] for u in users] + [dItemBiases[i] for i in items]\n",
    "    return np.array(dtheta)"
   ]
  },
  {
   "cell_type": "code",
   "execution_count": 104,
   "metadata": {},
   "outputs": [
    {
     "name": "stdout",
     "output_type": "stream",
     "text": [
      "MSE = 1.4735439815452338\n",
      "MSE = 1.4560896560389294\n",
      "MSE = 1.4733864367918064\n",
      "MSE = 1.473386434421149\n"
     ]
    },
    {
     "data": {
      "text/plain": [
       "(array([ 3.89708841e+00, -1.09181866e-05,  4.64342014e-05, ...,\n",
       "         5.75596559e-05, -4.36496224e-05, -8.75055609e-06]),\n",
       " 1.473465196550704,\n",
       " {'grad': array([-2.47029336e-08, -2.86239826e-09, -1.43371249e-09, ...,\n",
       "         -1.29515380e-08, -1.14558474e-08, -3.99377154e-09]),\n",
       "  'task': b'CONVERGENCE: NORM_OF_PROJECTED_GRADIENT_<=_PGTOL',\n",
       "  'funcalls': 4,\n",
       "  'nit': 2,\n",
       "  'warnflag': 0})"
      ]
     },
     "execution_count": 104,
     "metadata": {},
     "output_type": "execute_result"
    }
   ],
   "source": [
    "data, train, valid = splitDataset(\"./data/train_Interactions.csv.gz\")\n",
    "\n",
    "ratingMean = train['rating'].mean()\n",
    "alpha = ratingMean\n",
    "\n",
    "labels = train['rating']\n",
    "\n",
    "userBiases = defaultdict(float)\n",
    "itemBiases = defaultdict(float)\n",
    "\n",
    "users = list(set(train['userID']))\n",
    "items = list(set(train['bookID']))\n",
    "nUsers = len(users)\n",
    "nItems = len(items)\n",
    "\n",
    "scipy.optimize.fmin_l_bfgs_b(cost, [alpha] + [0.0]*(nUsers+nItems),\n",
    "                             derivative, args = (labels, 1))"
   ]
  },
  {
   "cell_type": "code",
   "execution_count": 105,
   "metadata": {},
   "outputs": [
    {
     "ename": "KeyError",
     "evalue": "'b21479253'",
     "output_type": "error",
     "traceback": [
      "\u001b[0;31m---------------------------------------------------------------------------\u001b[0m",
      "\u001b[0;31mKeyError\u001b[0m                                  Traceback (most recent call last)",
      "\u001b[0;32m<ipython-input-105-391101d35e45>\u001b[0m in \u001b[0;36m<module>\u001b[0;34m\u001b[0m\n\u001b[1;32m      2\u001b[0m \u001b[0;32mfor\u001b[0m \u001b[0mindex\u001b[0m\u001b[0;34m,\u001b[0m \u001b[0md\u001b[0m \u001b[0;32min\u001b[0m \u001b[0mvalid\u001b[0m\u001b[0;34m.\u001b[0m\u001b[0miterrows\u001b[0m\u001b[0;34m(\u001b[0m\u001b[0;34m)\u001b[0m\u001b[0;34m:\u001b[0m\u001b[0;34m\u001b[0m\u001b[0;34m\u001b[0m\u001b[0m\n\u001b[1;32m      3\u001b[0m     \u001b[0mu\u001b[0m\u001b[0;34m,\u001b[0m \u001b[0mi\u001b[0m \u001b[0;34m=\u001b[0m \u001b[0md\u001b[0m\u001b[0;34m[\u001b[0m\u001b[0;34m'userID'\u001b[0m\u001b[0;34m]\u001b[0m\u001b[0;34m,\u001b[0m \u001b[0md\u001b[0m\u001b[0;34m[\u001b[0m\u001b[0;34m'bookID'\u001b[0m\u001b[0;34m]\u001b[0m\u001b[0;34m\u001b[0m\u001b[0;34m\u001b[0m\u001b[0m\n\u001b[0;32m----> 4\u001b[0;31m     \u001b[0mpredictions\u001b[0m\u001b[0;34m.\u001b[0m\u001b[0mappend\u001b[0m\u001b[0;34m(\u001b[0m\u001b[0mprediction\u001b[0m\u001b[0;34m(\u001b[0m\u001b[0mu\u001b[0m\u001b[0;34m,\u001b[0m \u001b[0mi\u001b[0m\u001b[0;34m)\u001b[0m\u001b[0;34m)\u001b[0m\u001b[0;34m\u001b[0m\u001b[0;34m\u001b[0m\u001b[0m\n\u001b[0m\u001b[1;32m      5\u001b[0m \u001b[0;34m\u001b[0m\u001b[0m\n\u001b[1;32m      6\u001b[0m \u001b[0mMSE\u001b[0m\u001b[0;34m(\u001b[0m\u001b[0mpredictions\u001b[0m\u001b[0;34m,\u001b[0m \u001b[0mvalid\u001b[0m\u001b[0;34m[\u001b[0m\u001b[0;34m'rating'\u001b[0m\u001b[0;34m]\u001b[0m\u001b[0;34m)\u001b[0m\u001b[0;34m\u001b[0m\u001b[0;34m\u001b[0m\u001b[0m\n",
      "\u001b[0;32m<ipython-input-101-edd0b9ce9516>\u001b[0m in \u001b[0;36mprediction\u001b[0;34m(user, item)\u001b[0m\n\u001b[1;32m      4\u001b[0m \u001b[0;34m\u001b[0m\u001b[0m\n\u001b[1;32m      5\u001b[0m \u001b[0;32mdef\u001b[0m \u001b[0mprediction\u001b[0m\u001b[0;34m(\u001b[0m\u001b[0muser\u001b[0m\u001b[0;34m,\u001b[0m \u001b[0mitem\u001b[0m\u001b[0;34m)\u001b[0m\u001b[0;34m:\u001b[0m\u001b[0;34m\u001b[0m\u001b[0;34m\u001b[0m\u001b[0m\n\u001b[0;32m----> 6\u001b[0;31m     \u001b[0;32mreturn\u001b[0m \u001b[0malpha\u001b[0m \u001b[0;34m+\u001b[0m \u001b[0muserBiases\u001b[0m\u001b[0;34m[\u001b[0m\u001b[0muser\u001b[0m\u001b[0;34m]\u001b[0m \u001b[0;34m+\u001b[0m \u001b[0mitemBiases\u001b[0m\u001b[0;34m[\u001b[0m\u001b[0mitem\u001b[0m\u001b[0;34m]\u001b[0m\u001b[0;34m\u001b[0m\u001b[0;34m\u001b[0m\u001b[0m\n\u001b[0m\u001b[1;32m      7\u001b[0m \u001b[0;34m\u001b[0m\u001b[0m\n\u001b[1;32m      8\u001b[0m \u001b[0;32mdef\u001b[0m \u001b[0mMSE\u001b[0m\u001b[0;34m(\u001b[0m\u001b[0mpredictions\u001b[0m\u001b[0;34m,\u001b[0m \u001b[0mlabels\u001b[0m\u001b[0;34m)\u001b[0m\u001b[0;34m:\u001b[0m\u001b[0;34m\u001b[0m\u001b[0;34m\u001b[0m\u001b[0m\n",
      "\u001b[0;31mKeyError\u001b[0m: 'b21479253'"
     ]
    }
   ],
   "source": [
    "predictions = []\n",
    "for index, d in valid.iterrows():\n",
    "    u, i = d['userID'], d['bookID']\n",
    "    predictions.append(prediction(u, i))\n",
    "    \n",
    "MSE(predictions, valid['rating'])"
   ]
  },
  {
   "cell_type": "markdown",
   "metadata": {},
   "source": [
    "## Question 10\n",
    "\n",
    "Report the user and book IDs that have the largest and smallest values of $\\beta$ (1 mark)."
   ]
  },
  {
   "cell_type": "code",
   "execution_count": null,
   "metadata": {},
   "outputs": [],
   "source": []
  },
  {
   "cell_type": "markdown",
   "metadata": {},
   "source": [
    "## Question 11\n",
    "\n",
    "Find a better value of λ using your validation set. Report the value you chose, its MSE, and upload your solution to Kaggle by running it on the test data (1 mark)."
   ]
  },
  {
   "cell_type": "code",
   "execution_count": null,
   "metadata": {},
   "outputs": [],
   "source": []
  },
  {
   "cell_type": "code",
   "execution_count": null,
   "metadata": {},
   "outputs": [],
   "source": []
  }
 ],
 "metadata": {
  "kernelspec": {
   "display_name": "Python 3",
   "language": "python",
   "name": "python3"
  },
  "language_info": {
   "codemirror_mode": {
    "name": "ipython",
    "version": 3
   },
   "file_extension": ".py",
   "mimetype": "text/x-python",
   "name": "python",
   "nbconvert_exporter": "python",
   "pygments_lexer": "ipython3",
   "version": "3.7.1"
  }
 },
 "nbformat": 4,
 "nbformat_minor": 2
}
