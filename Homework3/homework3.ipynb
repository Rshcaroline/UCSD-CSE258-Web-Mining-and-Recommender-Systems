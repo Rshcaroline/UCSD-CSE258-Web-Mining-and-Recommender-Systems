{
 "cells": [
  {
   "cell_type": "markdown",
   "metadata": {},
   "source": [
    "# Tasks (Read prediction)\n",
    "\n",
    "Since we don’t have access to the test labels, we’ll need to simulate validation/test sets of our own. So, let’s split the training data (‘train Interactions.csv.gz’) as follows:\n",
    "\n",
    "(1) Reviews 1-190,000 for training\n",
    "\n",
    "(2) Reviews 190,001-200,000 for validation\n",
    "\n",
    "(3) Upload to Kaggle for testing only when you have a good model on the validation set. This will save you time (since Kaggle can take several minutes to return results), and prevent you from exceeding your daily submission limit."
   ]
  },
  {
   "cell_type": "code",
   "execution_count": 1,
   "metadata": {},
   "outputs": [],
   "source": [
    "# ============ Environment Setup ============\n",
    "# ignore the warnings\n",
    "import warnings\n",
    "warnings.filterwarnings(\"ignore\")\n",
    "\n",
    "# import some packages\n",
    "import gzip\n",
    "import random\n",
    "import pandas as pd\n",
    "from tqdm.notebook import tqdm\n",
    "from collections import defaultdict\n",
    "\n",
    "def splitDataset(datapath):\n",
    "    \"\"\"\n",
    "    Split the training data (‘train Interactions.csv.gz’) as follows:\n",
    "    (1) Reviews 1-190,000 for training\n",
    "    (2) Reviews 190,001-200,000 for validation\n",
    "    :param datapath:\n",
    "    :return: train, valid as dataframe\n",
    "    \"\"\"\n",
    "    f = gzip.open(datapath, 'rt')\n",
    "    data = pd.read_csv(f)\n",
    "    train, valid = data[:190001], data[190001:]\n",
    "    return data, train, valid\n",
    "\n",
    "data, train, valid = splitDataset(\"./data/train_Interactions.csv.gz\")"
   ]
  },
  {
   "cell_type": "markdown",
   "metadata": {},
   "source": [
    "## Question 1\n",
    "\n",
    "Although we have built a validation set, it only consists of positive samples. For this task we also need examples of user/item pairs that weren’t read. For each entry (user,book) in the validation set, sample a negative entry by randomly choosing a book that user hasn’t read. Evaluate the performance (accuracy) of the baseline model on the validation set you have built (1 mark)."
   ]
  },
  {
   "cell_type": "code",
   "execution_count": 2,
   "metadata": {},
   "outputs": [],
   "source": [
    "def sampleNegative(data, train, valid):\n",
    "    \"\"\"\n",
    "    For each entry (user,book) in the validation set, sample a negative entry\n",
    "        by randomly choosing a book that user hasn’t read.\n",
    "    :param train:\n",
    "    :param valid:\n",
    "    :return:\n",
    "    \"\"\"\n",
    "    valid['read'] = 1\n",
    "    NegValid = valid\n",
    "\n",
    "    userBookDict = {}\n",
    "    print(\"Preprocessing Data userBookDict ...\")\n",
    "    for index, row in tqdm(data.iterrows()):\n",
    "        if row['userID'] not in userBookDict:\n",
    "            userBookDict[row['userID']] = {row['bookID']}\n",
    "        else:\n",
    "            userBookDict[row['userID']].add(row['bookID'])\n",
    "\n",
    "    for index, row in tqdm(valid.iterrows()):\n",
    "        samNegBookID = random.sample(set(data['bookID']) - userBookDict[row['userID']], 1)[0]\n",
    "        NegValid = NegValid.append({'userID': row['userID'], 'bookID': samNegBookID, 'rating': 0, 'read':0}, ignore_index=True)\n",
    "\n",
    "    return NegValid, userBookDict "
   ]
  },
  {
   "cell_type": "code",
   "execution_count": 3,
   "metadata": {},
   "outputs": [
    {
     "name": "stdout",
     "output_type": "stream",
     "text": [
      "Sampling Negative samples ...\n",
      "Preprocessing Data userBookDict ...\n"
     ]
    },
    {
     "data": {
      "application/vnd.jupyter.widget-view+json": {
       "model_id": "90ffb86ac3e742afbf57f036aefe6a48",
       "version_major": 2,
       "version_minor": 0
      },
      "text/plain": [
       "HBox(children=(IntProgress(value=1, bar_style='info', max=1), HTML(value='')))"
      ]
     },
     "metadata": {},
     "output_type": "display_data"
    },
    {
     "name": "stdout",
     "output_type": "stream",
     "text": [
      "\n"
     ]
    },
    {
     "data": {
      "application/vnd.jupyter.widget-view+json": {
       "model_id": "4e66d7d1825a4bcf9f35190329fd2593",
       "version_major": 2,
       "version_minor": 0
      },
      "text/plain": [
       "HBox(children=(IntProgress(value=1, bar_style='info', max=1), HTML(value='')))"
      ]
     },
     "metadata": {},
     "output_type": "display_data"
    },
    {
     "name": "stdout",
     "output_type": "stream",
     "text": [
      "\n",
      "Training ...\n"
     ]
    },
    {
     "data": {
      "application/vnd.jupyter.widget-view+json": {
       "model_id": "9532dbee1c51495a9addcf514a5410f4",
       "version_major": 2,
       "version_minor": 0
      },
      "text/plain": [
       "HBox(children=(IntProgress(value=1, bar_style='info', max=1), HTML(value='')))"
      ]
     },
     "metadata": {},
     "output_type": "display_data"
    },
    {
     "name": "stdout",
     "output_type": "stream",
     "text": [
      "\n",
      "Evaluating ...\n"
     ]
    },
    {
     "data": {
      "application/vnd.jupyter.widget-view+json": {
       "model_id": "1cd916cde920457fb357307f58ad6525",
       "version_major": 2,
       "version_minor": 0
      },
      "text/plain": [
       "HBox(children=(IntProgress(value=1, bar_style='info', max=1), HTML(value='')))"
      ]
     },
     "metadata": {},
     "output_type": "display_data"
    },
    {
     "name": "stdout",
     "output_type": "stream",
     "text": [
      "\n",
      "Accuracy on Validation set is 0.646\n"
     ]
    }
   ],
   "source": [
    "def baselineOnValidation():\n",
    "    random.seed(5583)\n",
    "    data, train, valid = splitDataset(\"./data/train_Interactions.csv.gz\")\n",
    "    print(\"Sampling Negative samples ...\")\n",
    "    valid, _ = sampleNegative(data, train, valid)\n",
    "\n",
    "    bookCount = defaultdict(int)\n",
    "    totalRead = 0\n",
    "\n",
    "    print('Training ...')\n",
    "    for index, row in tqdm(train.iterrows()):\n",
    "        bookCount[row['bookID']] += 1\n",
    "        totalRead += 1\n",
    "\n",
    "    mostPopular = [(bookCount[x], x) for x in bookCount]\n",
    "    mostPopular.sort()\n",
    "    mostPopular.reverse()\n",
    "\n",
    "    return1 = set()\n",
    "    count = 0\n",
    "    for ic, i in mostPopular:\n",
    "        count += ic\n",
    "        return1.add(i)\n",
    "        if count > totalRead / 2:\n",
    "            break\n",
    "\n",
    "    print('Evaluating ...')\n",
    "    correct = 0\n",
    "    for index, row in tqdm(valid.iterrows()):\n",
    "        if row['bookID'] in return1:\n",
    "            correct += (row['read'] != 0)\n",
    "        else:\n",
    "            correct += (row['read'] == 0)\n",
    "    \n",
    "    print('Accuracy on Validation set is %.3f' % (correct/len(valid)))\n",
    "\n",
    "baselineOnValidation()"
   ]
  },
  {
   "cell_type": "markdown",
   "metadata": {},
   "source": [
    "## Question 2\n",
    "\n",
    "The existing ‘read prediction’ baseline just returns True if the item in question is ‘popular,’ using a threshold of the 50th percentile of popularity (totalRead/2). Assuming that the ‘non-read’ test examples are a random sample of user-book pairs, this threshold may not be the best one. See if you can find a better threshold and report its performance on your validatin set (1 mark)."
   ]
  },
  {
   "cell_type": "code",
   "execution_count": 11,
   "metadata": {},
   "outputs": [
    {
     "name": "stdout",
     "output_type": "stream",
     "text": [
      "Sampling Negative samples ...\n",
      "Preprocessing Data userBookDict ...\n"
     ]
    },
    {
     "data": {
      "application/vnd.jupyter.widget-view+json": {
       "model_id": "6ccbee6f44ba44489045fb04de0837b0",
       "version_major": 2,
       "version_minor": 0
      },
      "text/plain": [
       "HBox(children=(IntProgress(value=1, bar_style='info', max=1), HTML(value='')))"
      ]
     },
     "metadata": {},
     "output_type": "display_data"
    },
    {
     "name": "stdout",
     "output_type": "stream",
     "text": [
      "\n"
     ]
    },
    {
     "data": {
      "application/vnd.jupyter.widget-view+json": {
       "model_id": "15b1325df0e7438bb8b53a5ed74b9e39",
       "version_major": 2,
       "version_minor": 0
      },
      "text/plain": [
       "HBox(children=(IntProgress(value=1, bar_style='info', max=1), HTML(value='')))"
      ]
     },
     "metadata": {},
     "output_type": "display_data"
    },
    {
     "name": "stdout",
     "output_type": "stream",
     "text": [
      "\n",
      "Training ...\n",
      "Evaluating on threshold 1 ...\n",
      "Evaluating on threshold 2 ...\n",
      "Evaluating on threshold 3 ...\n",
      "Evaluating on threshold 4 ...\n",
      "Evaluating on threshold 5 ...\n",
      "Evaluating on threshold 6 ...\n",
      "Evaluating on threshold 7 ...\n",
      "Evaluating on threshold 8 ...\n",
      "Evaluating on threshold 9 ...\n",
      "Evaluating on threshold 10 ...\n"
     ]
    },
    {
     "data": {
      "image/png": "[encoded data removed]",
      "text/plain": [
       "<Figure size 432x288 with 1 Axes>"
      ]
     },
     "metadata": {
      "needs_background": "light"
     },
     "output_type": "display_data"
    }
   ],
   "source": [
    "import matplotlib.pyplot as plt\n",
    "\n",
    "def baselineOnValidation():\n",
    "    random.seed(5583)\n",
    "    data, train, valid = splitDataset(\"./data/train_Interactions.csv.gz\")\n",
    "    print(\"Sampling Negative samples ...\")\n",
    "    valid, _ = sampleNegative(data, train, valid)\n",
    "    \n",
    "    acc = []\n",
    "    thresholds = list(range(1, 11))\n",
    "    \n",
    "    bookCount = defaultdict(int)\n",
    "    totalRead = 0\n",
    "\n",
    "    print('Training ...')\n",
    "    for index, row in train.iterrows():\n",
    "        bookCount[row['bookID']] += 1\n",
    "        totalRead += 1\n",
    "\n",
    "    mostPopular = [(bookCount[x], x) for x in bookCount]\n",
    "    mostPopular.sort()\n",
    "    mostPopular.reverse()\n",
    "\n",
    "    for threshold in thresholds:\n",
    "        return1 = set()\n",
    "        count = 0\n",
    "        for ic, i in mostPopular:\n",
    "            count += ic\n",
    "            return1.add(i)\n",
    "            if count > totalRead / threshold:\n",
    "                break\n",
    "\n",
    "        print('Evaluating on threshold %d ...' % threshold)\n",
    "        correct = 0\n",
    "        for index, row in valid.iterrows():\n",
    "            if row['bookID'] in return1:\n",
    "                correct += (row['read'] != 0)\n",
    "            else:\n",
    "                correct += (row['read'] == 0)\n",
    "\n",
    "        acc.append(correct/len(valid))\n",
    "\n",
    "    plt.plot(thresholds, acc, 'b-')\n",
    "    plt.xlabel('Threshold')\n",
    "    plt.ylabel('Accuracy on Validation Set for different thresholds')\n",
    "    plt.show()\n",
    "    \n",
    "baselineOnValidation()"
   ]
  },
  {
   "cell_type": "markdown",
   "metadata": {},
   "source": [
    "As we can see, the best accuracy on validation set was achieved at threshold around $1.9$. And the accuracy is around $0.647$."
   ]
  },
  {
   "cell_type": "markdown",
   "metadata": {},
   "source": [
    "## Question 3\n",
    "\n",
    "A stronger baseline than the one provided might make use of the Jaccard similarity (or another similarity metric). Given a pair (u, b) in the validation set, consider all training items b′ that user u has read. For each, compute the Jaccard similarity between b and b', i.e., users (in the training set) who have read b and users who have read b'. Predict as ‘read’ if the maximum of these Jaccard similarities exceeds a threshold (you may choose the threshold that works best). Report the performance on your validation set (1 mark)."
   ]
  },
  {
   "cell_type": "code",
   "execution_count": 5,
   "metadata": {},
   "outputs": [
    {
     "name": "stdout",
     "output_type": "stream",
     "text": [
      "Sampling Negative samples ...\n",
      "Preprocessing Data userBookDict ...\n"
     ]
    },
    {
     "data": {
      "application/vnd.jupyter.widget-view+json": {
       "model_id": "24a72dcadbf1468bb50dfe0905dfc38b",
       "version_major": 2,
       "version_minor": 0
      },
      "text/plain": [
       "HBox(children=(IntProgress(value=1, bar_style='info', max=1), HTML(value='')))"
      ]
     },
     "metadata": {},
     "output_type": "display_data"
    },
    {
     "name": "stdout",
     "output_type": "stream",
     "text": [
      "\n"
     ]
    },
    {
     "data": {
      "application/vnd.jupyter.widget-view+json": {
       "model_id": "6d644b52e44340ca90c9c35fb218e509",
       "version_major": 2,
       "version_minor": 0
      },
      "text/plain": [
       "HBox(children=(IntProgress(value=1, bar_style='info', max=1), HTML(value='')))"
      ]
     },
     "metadata": {},
     "output_type": "display_data"
    },
    {
     "name": "stdout",
     "output_type": "stream",
     "text": [
      "\n"
     ]
    },
    {
     "data": {
      "application/vnd.jupyter.widget-view+json": {
       "model_id": "8dfa338d9cbc4bcb935cf2537301a41a",
       "version_major": 2,
       "version_minor": 0
      },
      "text/plain": [
       "HBox(children=(IntProgress(value=1, bar_style='info', max=1), HTML(value='')))"
      ]
     },
     "metadata": {},
     "output_type": "display_data"
    },
    {
     "name": "stdout",
     "output_type": "stream",
     "text": [
      "\n"
     ]
    }
   ],
   "source": [
    "random.seed(5583)\n",
    "data, train, valid = splitDataset(\"./data/train_Interactions.csv.gz\")\n",
    "print(\"Sampling Negative samples ...\")\n",
    "valid, _ = sampleNegative(data, train, valid)\n",
    "\n",
    "userReadBook, BookwasRead = {}, {}\n",
    "for index, row in tqdm(train.iterrows()):\n",
    "    if row['userID'] not in userReadBook:\n",
    "        userReadBook[row['userID']] = {row['bookID']}\n",
    "    else:\n",
    "        userReadBook[row['userID']].add(row['bookID'])\n",
    "    if row['bookID'] not in BookwasRead:\n",
    "        BookwasRead[row['bookID']] = {row['userID']}\n",
    "    else:\n",
    "        BookwasRead[row['bookID']].add(row['userID'])"
   ]
  },
  {
   "cell_type": "code",
   "execution_count": 6,
   "metadata": {},
   "outputs": [
    {
     "name": "stdout",
     "output_type": "stream",
     "text": [
      "Evaluating on threshold 0.500 ...\n"
     ]
    },
    {
     "data": {
      "application/vnd.jupyter.widget-view+json": {
       "model_id": "753d061fa62b498b9405910da5d61eca",
       "version_major": 2,
       "version_minor": 0
      },
      "text/plain": [
       "HBox(children=(IntProgress(value=1, bar_style='info', max=1), HTML(value='')))"
      ]
     },
     "metadata": {},
     "output_type": "display_data"
    },
    {
     "name": "stdout",
     "output_type": "stream",
     "text": [
      "\n",
      "Evaluating on threshold 0.250 ...\n"
     ]
    },
    {
     "data": {
      "application/vnd.jupyter.widget-view+json": {
       "model_id": "1aa4afe5a5154a5d98499d7621d5b66c",
       "version_major": 2,
       "version_minor": 0
      },
      "text/plain": [
       "HBox(children=(IntProgress(value=1, bar_style='info', max=1), HTML(value='')))"
      ]
     },
     "metadata": {},
     "output_type": "display_data"
    },
    {
     "name": "stdout",
     "output_type": "stream",
     "text": [
      "\n",
      "Evaluating on threshold 0.125 ...\n"
     ]
    },
    {
     "data": {
      "application/vnd.jupyter.widget-view+json": {
       "model_id": "81ca261011cf4e4596f47b9ca05df58e",
       "version_major": 2,
       "version_minor": 0
      },
      "text/plain": [
       "HBox(children=(IntProgress(value=1, bar_style='info', max=1), HTML(value='')))"
      ]
     },
     "metadata": {},
     "output_type": "display_data"
    },
    {
     "name": "stdout",
     "output_type": "stream",
     "text": [
      "\n",
      "Evaluating on threshold 0.062 ...\n"
     ]
    },
    {
     "data": {
      "application/vnd.jupyter.widget-view+json": {
       "model_id": "8570a97a06c94bfb8fba271234be6800",
       "version_major": 2,
       "version_minor": 0
      },
      "text/plain": [
       "HBox(children=(IntProgress(value=1, bar_style='info', max=1), HTML(value='')))"
      ]
     },
     "metadata": {},
     "output_type": "display_data"
    },
    {
     "name": "stdout",
     "output_type": "stream",
     "text": [
      "\n",
      "Evaluating on threshold 0.031 ...\n"
     ]
    },
    {
     "data": {
      "application/vnd.jupyter.widget-view+json": {
       "model_id": "1e5c03231d284c9f8c116766ec50cc31",
       "version_major": 2,
       "version_minor": 0
      },
      "text/plain": [
       "HBox(children=(IntProgress(value=1, bar_style='info', max=1), HTML(value='')))"
      ]
     },
     "metadata": {},
     "output_type": "display_data"
    },
    {
     "name": "stdout",
     "output_type": "stream",
     "text": [
      "\n",
      "Evaluating on threshold 0.016 ...\n"
     ]
    },
    {
     "data": {
      "application/vnd.jupyter.widget-view+json": {
       "model_id": "9006b55e50a34beebb9359890a0f483b",
       "version_major": 2,
       "version_minor": 0
      },
      "text/plain": [
       "HBox(children=(IntProgress(value=1, bar_style='info', max=1), HTML(value='')))"
      ]
     },
     "metadata": {},
     "output_type": "display_data"
    },
    {
     "name": "stdout",
     "output_type": "stream",
     "text": [
      "\n",
      "Evaluating on threshold 0.008 ...\n"
     ]
    },
    {
     "data": {
      "application/vnd.jupyter.widget-view+json": {
       "model_id": "8dbff80210fa4957be9e9372a43c9b63",
       "version_major": 2,
       "version_minor": 0
      },
      "text/plain": [
       "HBox(children=(IntProgress(value=1, bar_style='info', max=1), HTML(value='')))"
      ]
     },
     "metadata": {},
     "output_type": "display_data"
    },
    {
     "name": "stdout",
     "output_type": "stream",
     "text": [
      "\n",
      "Evaluating on threshold 0.004 ...\n"
     ]
    },
    {
     "data": {
      "application/vnd.jupyter.widget-view+json": {
       "model_id": "be7b34758cbc4123a68e88b04201d504",
       "version_major": 2,
       "version_minor": 0
      },
      "text/plain": [
       "HBox(children=(IntProgress(value=1, bar_style='info', max=1), HTML(value='')))"
      ]
     },
     "metadata": {},
     "output_type": "display_data"
    },
    {
     "name": "stdout",
     "output_type": "stream",
     "text": [
      "\n",
      "Evaluating on threshold 0.002 ...\n"
     ]
    },
    {
     "data": {
      "application/vnd.jupyter.widget-view+json": {
       "model_id": "5b59c4d03fce472aa6cb7267ece1dae5",
       "version_major": 2,
       "version_minor": 0
      },
      "text/plain": [
       "HBox(children=(IntProgress(value=1, bar_style='info', max=1), HTML(value='')))"
      ]
     },
     "metadata": {},
     "output_type": "display_data"
    },
    {
     "name": "stdout",
     "output_type": "stream",
     "text": [
      "\n"
     ]
    },
    {
     "data": {
      "image/png": "[encoded data removed]",
      "text/plain": [
       "<Figure size 432x288 with 1 Axes>"
      ]
     },
     "metadata": {
      "needs_background": "light"
     },
     "output_type": "display_data"
    }
   ],
   "source": [
    "def Jaccard(s1, s2):\n",
    "    numer = len(s1.intersection(s2))\n",
    "    denom = len(s1.union(s2))\n",
    "    return numer / denom\n",
    "\n",
    "thresholds = [1/2**i for i in range(1, 10)]\n",
    "acc = []\n",
    "for threshold in thresholds:\n",
    "    print('Evaluating on threshold %.3f ...' % threshold)\n",
    "    correct = 0\n",
    "    for index, row in tqdm(valid.iterrows()):\n",
    "        userReads = userReadBook[row['userID']]\n",
    "        jac = []\n",
    "        for book in userReads:\n",
    "            if row['bookID'] not in BookwasRead:\n",
    "                jac.append(0)\n",
    "            else:\n",
    "                jac.append(Jaccard(BookwasRead[row['bookID']], BookwasRead[book]))\n",
    "                \n",
    "        if max(jac) > threshold:\n",
    "            correct += (row['read'] != 0)\n",
    "        else:\n",
    "            correct += (row['read'] == 0)\n",
    "    \n",
    "    acc.append(correct/len(valid))\n",
    "\n",
    "plt.plot(thresholds, acc, 'b-')\n",
    "plt.xlabel('Threshold')\n",
    "plt.ylabel('Accuracy on Validation Set for different thresholds')\n",
    "plt.show()"
   ]
  },
  {
   "cell_type": "code",
   "execution_count": 7,
   "metadata": {},
   "outputs": [
    {
     "name": "stdout",
     "output_type": "stream",
     "text": [
      "threshold 0.008, accuracy 0.616\n"
     ]
    }
   ],
   "source": [
    "print('threshold %.3f, accuracy %.3f' % (thresholds[acc.index(max(acc))], max(acc)))"
   ]
  },
  {
   "cell_type": "markdown",
   "metadata": {},
   "source": [
    "## Question 4\n",
    "\n",
    "Improve the above predictor by incorporating both a Jaccard-based threshold and a popularity based threshold. Report the performance on your validation set (1 mark)."
   ]
  },
  {
   "cell_type": "markdown",
   "metadata": {},
   "source": [
    "Simply Use a \"and\" operation for ensemble model."
   ]
  },
  {
   "cell_type": "code",
   "execution_count": 8,
   "metadata": {},
   "outputs": [
    {
     "name": "stdout",
     "output_type": "stream",
     "text": [
      "Sampling Negative samples ...\n",
      "Preprocessing Data userBookDict ...\n"
     ]
    },
    {
     "data": {
      "application/vnd.jupyter.widget-view+json": {
       "model_id": "41a3cc0ab6ab4c5b965a285f78d097a0",
       "version_major": 2,
       "version_minor": 0
      },
      "text/plain": [
       "HBox(children=(IntProgress(value=1, bar_style='info', max=1), HTML(value='')))"
      ]
     },
     "metadata": {},
     "output_type": "display_data"
    },
    {
     "name": "stdout",
     "output_type": "stream",
     "text": [
      "\n"
     ]
    },
    {
     "data": {
      "application/vnd.jupyter.widget-view+json": {
       "model_id": "9f195265789f4f61b21b3fa4f48de273",
       "version_major": 2,
       "version_minor": 0
      },
      "text/plain": [
       "HBox(children=(IntProgress(value=1, bar_style='info', max=1), HTML(value='')))"
      ]
     },
     "metadata": {},
     "output_type": "display_data"
    },
    {
     "name": "stdout",
     "output_type": "stream",
     "text": [
      "\n"
     ]
    },
    {
     "data": {
      "application/vnd.jupyter.widget-view+json": {
       "model_id": "806ffd5aaf5f4ee89e669b65057188a4",
       "version_major": 2,
       "version_minor": 0
      },
      "text/plain": [
       "HBox(children=(IntProgress(value=1, bar_style='info', max=1), HTML(value='')))"
      ]
     },
     "metadata": {},
     "output_type": "display_data"
    },
    {
     "name": "stdout",
     "output_type": "stream",
     "text": [
      "\n"
     ]
    }
   ],
   "source": [
    "# preprocessing\n",
    "random.seed(5583)\n",
    "data, train, valid = splitDataset(\"./data/train_Interactions.csv.gz\")\n",
    "print(\"Sampling Negative samples ...\")\n",
    "valid, _ = sampleNegative(data, train, valid)\n",
    "\n",
    "userReadBook, BookwasRead = {}, {}\n",
    "for index, row in tqdm(train.iterrows()):\n",
    "    if row['userID'] not in userReadBook:\n",
    "        userReadBook[row['userID']] = {row['bookID']}\n",
    "    else:\n",
    "        userReadBook[row['userID']].add(row['bookID'])\n",
    "    if row['bookID'] not in BookwasRead:\n",
    "        BookwasRead[row['bookID']] = {row['userID']}\n",
    "    else:\n",
    "        BookwasRead[row['bookID']].add(row['userID'])"
   ]
  },
  {
   "cell_type": "code",
   "execution_count": 30,
   "metadata": {},
   "outputs": [
    {
     "name": "stdout",
     "output_type": "stream",
     "text": [
      "Training ...\n",
      "Evaluating ...\n"
     ]
    },
    {
     "data": {
      "application/vnd.jupyter.widget-view+json": {
       "model_id": "288a23ed0f23495e9687d2f16f5a9a3e",
       "version_major": 2,
       "version_minor": 0
      },
      "text/plain": [
       "HBox(children=(IntProgress(value=1, bar_style='info', max=1), HTML(value='')))"
      ]
     },
     "metadata": {},
     "output_type": "display_data"
    },
    {
     "name": "stdout",
     "output_type": "stream",
     "text": [
      "\n",
      "Accuracy is 0.650\n"
     ]
    }
   ],
   "source": [
    "def ensemble(threshold_pop = 1.9, threshold_jac = 0.008):\n",
    "    bookCount = defaultdict(int)\n",
    "    totalRead = 0\n",
    "\n",
    "    print('Training ...')\n",
    "    for index, row in train.iterrows():\n",
    "        bookCount[row['bookID']] += 1\n",
    "        totalRead += 1\n",
    "\n",
    "    mostPopular = [(bookCount[x], x) for x in bookCount]\n",
    "    mostPopular.sort()\n",
    "    mostPopular.reverse()\n",
    "\n",
    "    return1 = set()\n",
    "    count = 0\n",
    "    for ic, i in mostPopular:\n",
    "        count += ic\n",
    "        return1.add(i)\n",
    "        if count > totalRead / threshold_pop:\n",
    "            break\n",
    "    \n",
    "    print('Evaluating ...')\n",
    "    correct = 0\n",
    "    for index, row in tqdm(valid.iterrows()):\n",
    "        userReads = userReadBook[row['userID']]\n",
    "        jac = []\n",
    "        for book in userReads:\n",
    "            if row['bookID'] not in BookwasRead:\n",
    "                jac.append(0)\n",
    "            else:\n",
    "                jac.append(Jaccard(BookwasRead[row['bookID']], BookwasRead[book]))\n",
    "\n",
    "        if max(jac) > threshold_jac and row['bookID'] in return1:\n",
    "            correct += (row['read'] != 0)\n",
    "        else:\n",
    "            correct += (row['read'] == 0)\n",
    "\n",
    "    return correct/len(valid)\n",
    "    \n",
    "print(\"Accuracy is %.3f\" % ensemble())"
   ]
  },
  {
   "cell_type": "markdown",
   "metadata": {},
   "source": [
    "If we use the best thresholds from the single popularity and Jaccard method, the accuracy is 0.650. However, since in the ensemble model, we simply do a \"and\" operation, we should properly lower the thresholds."
   ]
  },
  {
   "cell_type": "markdown",
   "metadata": {},
   "source": [
    "###  Tune on Popularity Threshold"
   ]
  },
  {
   "cell_type": "code",
   "execution_count": 36,
   "metadata": {},
   "outputs": [
    {
     "name": "stdout",
     "output_type": "stream",
     "text": [
      "Training ...\n",
      "Evaluating ...\n"
     ]
    },
    {
     "data": {
      "application/vnd.jupyter.widget-view+json": {
       "model_id": "851d3ea933de43bd94c3033b5e9a545e",
       "version_major": 2,
       "version_minor": 0
      },
      "text/plain": [
       "HBox(children=(IntProgress(value=1, bar_style='info', max=1), HTML(value='')))"
      ]
     },
     "metadata": {},
     "output_type": "display_data"
    },
    {
     "name": "stdout",
     "output_type": "stream",
     "text": [
      "\n",
      "Training ...\n",
      "Evaluating ...\n"
     ]
    },
    {
     "data": {
      "application/vnd.jupyter.widget-view+json": {
       "model_id": "93fe898faeac4ae2aaff11e846aa6484",
       "version_major": 2,
       "version_minor": 0
      },
      "text/plain": [
       "HBox(children=(IntProgress(value=1, bar_style='info', max=1), HTML(value='')))"
      ]
     },
     "metadata": {},
     "output_type": "display_data"
    },
    {
     "name": "stdout",
     "output_type": "stream",
     "text": [
      "\n",
      "Training ...\n",
      "Evaluating ...\n"
     ]
    },
    {
     "data": {
      "application/vnd.jupyter.widget-view+json": {
       "model_id": "90176b4532684027b66992a2addff097",
       "version_major": 2,
       "version_minor": 0
      },
      "text/plain": [
       "HBox(children=(IntProgress(value=1, bar_style='info', max=1), HTML(value='')))"
      ]
     },
     "metadata": {},
     "output_type": "display_data"
    },
    {
     "name": "stdout",
     "output_type": "stream",
     "text": [
      "\n",
      "Training ...\n",
      "Evaluating ...\n"
     ]
    },
    {
     "data": {
      "application/vnd.jupyter.widget-view+json": {
       "model_id": "a381ab4557a743b1929a1a792bb86c7d",
       "version_major": 2,
       "version_minor": 0
      },
      "text/plain": [
       "HBox(children=(IntProgress(value=1, bar_style='info', max=1), HTML(value='')))"
      ]
     },
     "metadata": {},
     "output_type": "display_data"
    },
    {
     "name": "stdout",
     "output_type": "stream",
     "text": [
      "\n",
      "Training ...\n",
      "Evaluating ...\n"
     ]
    },
    {
     "data": {
      "application/vnd.jupyter.widget-view+json": {
       "model_id": "81ad3b7a4df04ba8b6c5d50b01ea234e",
       "version_major": 2,
       "version_minor": 0
      },
      "text/plain": [
       "HBox(children=(IntProgress(value=1, bar_style='info', max=1), HTML(value='')))"
      ]
     },
     "metadata": {},
     "output_type": "display_data"
    },
    {
     "name": "stdout",
     "output_type": "stream",
     "text": [
      "\n",
      "Training ...\n",
      "Evaluating ...\n"
     ]
    },
    {
     "data": {
      "application/vnd.jupyter.widget-view+json": {
       "model_id": "ab06c7e3c6e44a788d2ec723d91a3325",
       "version_major": 2,
       "version_minor": 0
      },
      "text/plain": [
       "HBox(children=(IntProgress(value=1, bar_style='info', max=1), HTML(value='')))"
      ]
     },
     "metadata": {},
     "output_type": "display_data"
    },
    {
     "name": "stdout",
     "output_type": "stream",
     "text": [
      "\n",
      "Training ...\n",
      "Evaluating ...\n"
     ]
    },
    {
     "data": {
      "application/vnd.jupyter.widget-view+json": {
       "model_id": "9436ed22905d40c6b4af5520650a4ea0",
       "version_major": 2,
       "version_minor": 0
      },
      "text/plain": [
       "HBox(children=(IntProgress(value=1, bar_style='info', max=1), HTML(value='')))"
      ]
     },
     "metadata": {},
     "output_type": "display_data"
    },
    {
     "name": "stdout",
     "output_type": "stream",
     "text": [
      "\n",
      "Training ...\n",
      "Evaluating ...\n"
     ]
    },
    {
     "data": {
      "application/vnd.jupyter.widget-view+json": {
       "model_id": "48f3e3ca18f649e7a4bb486e350ace81",
       "version_major": 2,
       "version_minor": 0
      },
      "text/plain": [
       "HBox(children=(IntProgress(value=1, bar_style='info', max=1), HTML(value='')))"
      ]
     },
     "metadata": {},
     "output_type": "display_data"
    },
    {
     "name": "stdout",
     "output_type": "stream",
     "text": [
      "\n",
      "Training ...\n",
      "Evaluating ...\n"
     ]
    },
    {
     "data": {
      "application/vnd.jupyter.widget-view+json": {
       "model_id": "3c6ee1d628a9406e89fc324c06adec12",
       "version_major": 2,
       "version_minor": 0
      },
      "text/plain": [
       "HBox(children=(IntProgress(value=1, bar_style='info', max=1), HTML(value='')))"
      ]
     },
     "metadata": {},
     "output_type": "display_data"
    },
    {
     "name": "stdout",
     "output_type": "stream",
     "text": [
      "\n",
      "Training ...\n",
      "Evaluating ...\n"
     ]
    },
    {
     "data": {
      "application/vnd.jupyter.widget-view+json": {
       "model_id": "70e2d65d89c6499a92018c8addae6a21",
       "version_major": 2,
       "version_minor": 0
      },
      "text/plain": [
       "HBox(children=(IntProgress(value=1, bar_style='info', max=1), HTML(value='')))"
      ]
     },
     "metadata": {},
     "output_type": "display_data"
    },
    {
     "name": "stdout",
     "output_type": "stream",
     "text": [
      "\n"
     ]
    }
   ],
   "source": [
    "threshold_pops = [i/10 for i in range(10, 20)]\n",
    "acc = []\n",
    "for threshold_pop in threshold_pops:\n",
    "    acc.append(ensemble(threshold_pop, threshold_jac = 0.008))"
   ]
  },
  {
   "cell_type": "code",
   "execution_count": 37,
   "metadata": {},
   "outputs": [
    {
     "data": {
      "image/png": "[encoded data removed]",
      "text/plain": [
       "<Figure size 432x288 with 1 Axes>"
      ]
     },
     "metadata": {
      "needs_background": "light"
     },
     "output_type": "display_data"
    }
   ],
   "source": [
    "plt.plot(threshold_pops, acc)\n",
    "plt.xlabel('Threshold on popularity')\n",
    "plt.ylabel('Accuracy on Validation Set for different thresholds')\n",
    "plt.show()"
   ]
  },
  {
   "cell_type": "markdown",
   "metadata": {},
   "source": [
    "The best accuracy was achieved at threshold 1.4 as 0.663."
   ]
  },
  {
   "cell_type": "code",
   "execution_count": 38,
   "metadata": {},
   "outputs": [
    {
     "data": {
      "text/plain": [
       "0.6626162616261626"
      ]
     },
     "execution_count": 38,
     "metadata": {},
     "output_type": "execute_result"
    }
   ],
   "source": [
    "max(acc)"
   ]
  },
  {
   "cell_type": "markdown",
   "metadata": {},
   "source": [
    "### Tune on Jaccard Threshold"
   ]
  },
  {
   "cell_type": "code",
   "execution_count": 45,
   "metadata": {},
   "outputs": [
    {
     "name": "stdout",
     "output_type": "stream",
     "text": [
      "Training ...\n",
      "Evaluating ...\n"
     ]
    },
    {
     "data": {
      "application/vnd.jupyter.widget-view+json": {
       "model_id": "f31173d787574d2f8068a339ba5ac075",
       "version_major": 2,
       "version_minor": 0
      },
      "text/plain": [
       "HBox(children=(IntProgress(value=1, bar_style='info', max=1), HTML(value='')))"
      ]
     },
     "metadata": {},
     "output_type": "display_data"
    },
    {
     "name": "stdout",
     "output_type": "stream",
     "text": [
      "\n",
      "Training ...\n",
      "Evaluating ...\n"
     ]
    },
    {
     "data": {
      "application/vnd.jupyter.widget-view+json": {
       "model_id": "6025541302264d12946dff88da90be5b",
       "version_major": 2,
       "version_minor": 0
      },
      "text/plain": [
       "HBox(children=(IntProgress(value=1, bar_style='info', max=1), HTML(value='')))"
      ]
     },
     "metadata": {},
     "output_type": "display_data"
    },
    {
     "name": "stdout",
     "output_type": "stream",
     "text": [
      "\n",
      "Training ...\n",
      "Evaluating ...\n"
     ]
    },
    {
     "data": {
      "application/vnd.jupyter.widget-view+json": {
       "model_id": "a8efa3a3330048488d8c2ee832a1071d",
       "version_major": 2,
       "version_minor": 0
      },
      "text/plain": [
       "HBox(children=(IntProgress(value=1, bar_style='info', max=1), HTML(value='')))"
      ]
     },
     "metadata": {},
     "output_type": "display_data"
    },
    {
     "name": "stdout",
     "output_type": "stream",
     "text": [
      "\n",
      "Training ...\n",
      "Evaluating ...\n"
     ]
    },
    {
     "data": {
      "application/vnd.jupyter.widget-view+json": {
       "model_id": "36be80b7013846e1a83c43455c2f2ed5",
       "version_major": 2,
       "version_minor": 0
      },
      "text/plain": [
       "HBox(children=(IntProgress(value=1, bar_style='info', max=1), HTML(value='')))"
      ]
     },
     "metadata": {},
     "output_type": "display_data"
    },
    {
     "name": "stdout",
     "output_type": "stream",
     "text": [
      "\n",
      "Training ...\n",
      "Evaluating ...\n"
     ]
    },
    {
     "data": {
      "application/vnd.jupyter.widget-view+json": {
       "model_id": "30914d7f4e2041d797522c3aae25daad",
       "version_major": 2,
       "version_minor": 0
      },
      "text/plain": [
       "HBox(children=(IntProgress(value=1, bar_style='info', max=1), HTML(value='')))"
      ]
     },
     "metadata": {},
     "output_type": "display_data"
    },
    {
     "name": "stdout",
     "output_type": "stream",
     "text": [
      "\n"
     ]
    }
   ],
   "source": [
    "threshold_jacs = [i/10000 for i in range(50, 100, 10)]\n",
    "acc = []\n",
    "for threshold_jac in threshold_jacs:\n",
    "    acc.append(ensemble(threshold_pop=1.4, threshold_jac=threshold_jac))"
   ]
  },
  {
   "cell_type": "code",
   "execution_count": 46,
   "metadata": {},
   "outputs": [
    {
     "data": {
      "image/png": "[encoded data removed]",
      "text/plain": [
       "<Figure size 432x288 with 1 Axes>"
      ]
     },
     "metadata": {
      "needs_background": "light"
     },
     "output_type": "display_data"
    }
   ],
   "source": [
    "plt.plot(threshold_jacs, acc)\n",
    "plt.xlabel('Threshold on Jaccard')\n",
    "plt.ylabel('Accuracy on Validation Set for different thresholds')\n",
    "plt.show()"
   ]
  },
  {
   "cell_type": "markdown",
   "metadata": {},
   "source": [
    "According to the previous experiments, the best results 0.663 are achieved at the popularity threshold = 1.4, Jaccard threshold = 0.008."
   ]
  },
  {
   "cell_type": "markdown",
   "metadata": {},
   "source": [
    "## Question 5\n",
    "\n",
    "To run our model on the test set, we’ll have to use the files ‘pairs Read.txt’ to find the reviewerID/itemID pairs about which we have to make predictions. Using that data, run the above model and upload your solution to Kaggle. Tell us your Kaggle user name (1 mark). If you’ve already uploaded a better solution to Kaggle, that’s fine too!"
   ]
  },
  {
   "cell_type": "code",
   "execution_count": 47,
   "metadata": {},
   "outputs": [
    {
     "name": "stdout",
     "output_type": "stream",
     "text": [
      "Training ...\n"
     ]
    }
   ],
   "source": [
    "threshold_pop = 1.4\n",
    "threshold_jac = 0.008\n",
    "\n",
    "bookCount = defaultdict(int)\n",
    "totalRead = 0\n",
    "\n",
    "print('Training ...')\n",
    "for index, row in train.iterrows():\n",
    "    bookCount[row['bookID']] += 1\n",
    "    totalRead += 1\n",
    "\n",
    "mostPopular = [(bookCount[x], x) for x in bookCount]\n",
    "mostPopular.sort()\n",
    "mostPopular.reverse()\n",
    "\n",
    "return1 = set()\n",
    "count = 0\n",
    "for ic, i in mostPopular:\n",
    "    count += ic\n",
    "    return1.add(i)\n",
    "    if count > totalRead / threshold_pop:\n",
    "        break\n",
    "\n",
    "predictions = open(\"predictions_Read.txt\", 'w')\n",
    "for l in open(\"./data/pairs_Read.txt\"):\n",
    "    if l.startswith(\"userID\"):\n",
    "        # header\n",
    "        predictions.write(l)\n",
    "        continue\n",
    "    u, b = l.strip().split('-')\n",
    "    userReads = userReadBook[u]\n",
    "    jac = []\n",
    "    for book in userReads:\n",
    "        if b not in BookwasRead:\n",
    "            jac.append(0)\n",
    "        else:\n",
    "            jac.append(Jaccard(BookwasRead[b], BookwasRead[book]))\n",
    "\n",
    "    if max(jac) > threshold_jac and b in return1:\n",
    "        predictions.write(u + '-' + b + \",1\\n\")\n",
    "    else:\n",
    "        predictions.write(u + '-' + b + \",0\\n\")\n",
    "\n",
    "predictions.close()"
   ]
  },
  {
   "cell_type": "markdown",
   "metadata": {},
   "source": [
    "### Kaggle\n",
    "\n",
    "User name: shihanran\n",
    "\n",
    "Display name: Shihan Ran\n",
    "\n",
    "Email: sran@ucsd.edu\n",
    "\n",
    "Public Leaderboard Score: 0.67466"
   ]
  },
  {
   "cell_type": "markdown",
   "metadata": {},
   "source": [
    "# Tasks (Rating prediction)\n",
    "\n",
    "Let’s start by building our training/validation sets much as we did for the first task. This time building a validation set is more straightforward: you can simply use part of the data for validation, and do not need to randomly sample non-read users/books."
   ]
  },
  {
   "cell_type": "markdown",
   "metadata": {},
   "source": [
    "## Question 9\n",
    "\n",
    "Fit a predictor of the form\n",
    "\n",
    "$$\\text { rating (user, item ) } \\simeq \\alpha+\\beta_{\\text {user }}+\\beta_{\\text {item }}$$\n",
    "\n",
    "by fitting the mean and the two bias terms as described in the lecture notes. Use a regularization parameter of $\\lambda = 1$. Report the MSE on the validation set (1 mark)."
   ]
  },
  {
   "cell_type": "code",
   "execution_count": 53,
   "metadata": {},
   "outputs": [],
   "source": [
    "import scipy\n",
    "import scipy.optimize\n",
    "import numpy as np\n",
    "\n",
    "def prediction(user, item):\n",
    "    return alpha + userBiases[user] + itemBiases[item]\n",
    "\n",
    "def MSE(predictions, labels):\n",
    "    differences = [(x-y)**2 for x,y in zip(predictions,labels)]\n",
    "    return sum(differences) / len(differences)\n",
    "\n",
    "def unpack(theta):\n",
    "    global alpha\n",
    "    global userBiases\n",
    "    global itemBiases\n",
    "    alpha = theta[0]\n",
    "    userBiases = dict(zip(users, theta[1:nUsers+1]))\n",
    "    itemBiases = dict(zip(items, theta[1+nUsers:]))\n",
    "    \n",
    "def cost(theta, labels, lamb):\n",
    "    unpack(theta)\n",
    "    predictions = [prediction(d['userID'], d['bookID']) for index, d in train.iterrows()]\n",
    "    cost = MSE(predictions, labels)\n",
    "    print(\"MSE = \" + str(cost))\n",
    "    for u in userBiases:\n",
    "        cost += lamb*userBiases[u]**2\n",
    "    for i in itemBiases:\n",
    "        cost += lamb*itemBiases[i]**2\n",
    "    return cost\n",
    "\n",
    "def derivative(theta, labels, lamb):\n",
    "    unpack(theta)\n",
    "    N = len(train)\n",
    "    dalpha = 0\n",
    "    dUserBiases = defaultdict(float)\n",
    "    dItemBiases = defaultdict(float)\n",
    "    for index, d in train.iterrows():\n",
    "        u,i = d['userID'], d['bookID']\n",
    "        pred = prediction(u, i)\n",
    "        diff = pred - d['rating']\n",
    "        dalpha += 2/N*diff\n",
    "        dUserBiases[u] += 2/N*diff\n",
    "        dItemBiases[i] += 2/N*diff\n",
    "    for u in userBiases:\n",
    "        dUserBiases[u] += 2*lamb*userBiases[u]\n",
    "    for i in itemBiases:\n",
    "        dItemBiases[i] += 2*lamb*itemBiases[i]\n",
    "    dtheta = [dalpha] + [dUserBiases[u] for u in users] + [dItemBiases[i] for i in items]\n",
    "    return np.array(dtheta)"
   ]
  },
  {
   "cell_type": "markdown",
   "metadata": {},
   "source": [
    "### Training "
   ]
  },
  {
   "cell_type": "code",
   "execution_count": 54,
   "metadata": {},
   "outputs": [
    {
     "name": "stdout",
     "output_type": "stream",
     "text": [
      "MSE = 1.4735439815452338\n",
      "MSE = 1.4560896560389294\n",
      "MSE = 1.4733864367918064\n",
      "MSE = 1.473386434421149\n"
     ]
    },
    {
     "data": {
      "text/plain": [
       "(array([ 3.89708841e+00,  9.39450287e-05,  3.06462740e-05, ...,\n",
       "        -1.74937858e-05,  3.89145254e-05, -1.19408114e-04]),\n",
       " 1.473465196550704,\n",
       " {'grad': array([-2.47029336e-08, -3.42086976e-09, -1.74216486e-09, ...,\n",
       "         -7.99313594e-09, -8.92116090e-09, -2.32554776e-08]),\n",
       "  'task': b'CONVERGENCE: NORM_OF_PROJECTED_GRADIENT_<=_PGTOL',\n",
       "  'funcalls': 4,\n",
       "  'nit': 2,\n",
       "  'warnflag': 0})"
      ]
     },
     "execution_count": 54,
     "metadata": {},
     "output_type": "execute_result"
    }
   ],
   "source": [
    "lamb = 1\n",
    "data, train, valid = splitDataset(\"./data/train_Interactions.csv.gz\")\n",
    "\n",
    "ratingMean = train['rating'].mean()\n",
    "alpha = ratingMean\n",
    "\n",
    "labels = train['rating']\n",
    "\n",
    "userBiases = defaultdict(float)\n",
    "itemBiases = defaultdict(float)\n",
    "\n",
    "users = list(set(train['userID']))\n",
    "items = list(set(train['bookID']))\n",
    "nUsers = len(users)\n",
    "nItems = len(items)\n",
    "\n",
    "scipy.optimize.fmin_l_bfgs_b(cost, [alpha] + [0.0]*(nUsers+nItems),\n",
    "                             derivative, args = (labels, lamb))"
   ]
  },
  {
   "cell_type": "markdown",
   "metadata": {},
   "source": [
    "### Validating"
   ]
  },
  {
   "cell_type": "code",
   "execution_count": 55,
   "metadata": {},
   "outputs": [
    {
     "name": "stdout",
     "output_type": "stream",
     "text": [
      "MSE 1.491\n"
     ]
    }
   ],
   "source": [
    "predictions = []\n",
    "for index, d in valid.iterrows():\n",
    "    u, i = d['userID'], d['bookID']\n",
    "    if u in userBiases and i in itemBiases:\n",
    "        predictions.append(prediction(u, i))\n",
    "    else:\n",
    "        predictions.append(0)\n",
    "\n",
    "print(\"MSE %.3f\" % MSE(predictions, valid['rating']))"
   ]
  },
  {
   "cell_type": "markdown",
   "metadata": {},
   "source": [
    "## Question 10\n",
    "\n",
    "Report the user and book IDs that have the largest and smallest values of $\\beta$ (1 mark)."
   ]
  },
  {
   "cell_type": "code",
   "execution_count": 59,
   "metadata": {},
   "outputs": [
    {
     "name": "stdout",
     "output_type": "stream",
     "text": [
      "max user: u92864068 , max value: 0.000404\n",
      "max book: b76915592 , max value: 0.000829\n",
      "min user: u11591742 , min value: -0.001580\n",
      "min book: b57299824 , min value: -0.000272\n"
     ]
    }
   ],
   "source": [
    "print(\"max user: %s , max value: %f\" % (max(userBiases, key=userBiases.get), max(userBiases.values())))\n",
    "print(\"max book: %s , max value: %f\" % (max(itemBiases, key=itemBiases.get), max(itemBiases.values())))\n",
    "print(\"min user: %s , min value: %f\" % (min(userBiases, key=userBiases.get), min(userBiases.values())))\n",
    "print(\"min book: %s , min value: %f\" % (min(itemBiases, key=itemBiases.get), min(itemBiases.values())))"
   ]
  },
  {
   "cell_type": "markdown",
   "metadata": {},
   "source": [
    "## Question 11\n",
    "\n",
    "Find a better value of λ using your validation set. Report the value you chose, its MSE, and upload your solution to Kaggle by running it on the test data (1 mark)."
   ]
  },
  {
   "cell_type": "markdown",
   "metadata": {},
   "source": [
    "### Tune on Lambda"
   ]
  },
  {
   "cell_type": "markdown",
   "metadata": {},
   "source": [
    "#### Training"
   ]
  },
  {
   "cell_type": "code",
   "execution_count": null,
   "metadata": {},
   "outputs": [],
   "source": [
    "lamb = 10**(-5)\n",
    "\n",
    "def training(lamb):\n",
    "    scipy.optimize.fmin_l_bfgs_b(cost, [alpha] + [0.0]*(nUsers+nItems),\n",
    "                             derivative, args = (labels, lamb))\n",
    "    \n",
    "training(lamb)"
   ]
  },
  {
   "cell_type": "code",
   "execution_count": 74,
   "metadata": {},
   "outputs": [
    {
     "name": "stdout",
     "output_type": "stream",
     "text": [
      "MSE = 1.4832822467543116\n",
      "MSE = 2.2774077819725242\n",
      "MSE = 1.4733803095939564\n",
      "MSE = 1.4732216116948278\n",
      "MSE = 1.4725872844004562\n",
      "MSE = 1.4700574040585836\n",
      "MSE = 1.46005674405923\n",
      "MSE = 1.4219558859536154\n",
      "MSE = 1.0709100510026317\n",
      "MSE = 1.1353667138062993\n",
      "MSE = 1.0165601239612587\n",
      "MSE = 0.9958361836255681\n",
      "MSE = 0.958628708879125\n",
      "MSE = 0.9456710724181053\n",
      "MSE = 0.940360705198549\n",
      "MSE = 0.9369120019287528\n",
      "MSE = 0.9330258079843778\n",
      "MSE = 0.9287915309290408\n",
      "MSE = 0.9272107583190305\n",
      "MSE = 0.9275681784630906\n",
      "MSE = 0.9260959826878737\n",
      "MSE = 1.0449432130774279\n",
      "MSE = 0.9260944677265066\n",
      "MSE = 0.9262261597070357\n",
      "MSE = 0.9263431791924667\n",
      "MSE = 0.9262840858001393\n",
      "MSE = 0.9260195665750545\n",
      "MSE = 0.9258423786552941\n",
      "MSE = 0.9257710824567681\n",
      "MSE = 0.925664913414827\n",
      "MSE = 0.9256628584235027\n",
      "MSE = 0.9256270715837497\n",
      "MSE = 0.925645960656846\n",
      "MSE = 0.925673372856432\n",
      "MSE = 0.9256467166548477\n",
      "MSE = 0.9256586008480103\n",
      "MSE = 0.9256656647869687\n",
      "MSE = 0.9256646978287322\n",
      "MSE = 0.9256610351358464\n",
      "MSE = 0.9256615363700421\n",
      "MSE = 0.9256576149969635\n"
     ]
    }
   ],
   "source": [
    "lamb = 2*10**(-5)\n",
    "\n",
    "def training(lamb):\n",
    "    scipy.optimize.fmin_l_bfgs_b(cost, [alpha] + [0.0]*(nUsers+nItems),\n",
    "                             derivative, args = (labels, lamb))\n",
    "    \n",
    "training(lamb)"
   ]
  },
  {
   "cell_type": "code",
   "execution_count": 75,
   "metadata": {},
   "outputs": [
    {
     "name": "stdout",
     "output_type": "stream",
     "text": [
      "MSE 1.109\n"
     ]
    }
   ],
   "source": [
    "predictions = []\n",
    "for index, d in valid.iterrows():\n",
    "    u, i = d['userID'], d['bookID']\n",
    "    if u in userBiases and i in itemBiases:\n",
    "        predictions.append(prediction(u, i))\n",
    "    else:\n",
    "        predictions.append(0)\n",
    "\n",
    "print(\"MSE %.3f\" % MSE(predictions, valid['rating']))"
   ]
  },
  {
   "cell_type": "markdown",
   "metadata": {},
   "source": [
    "#### Validating"
   ]
  },
  {
   "cell_type": "code",
   "execution_count": 63,
   "metadata": {},
   "outputs": [
    {
     "name": "stdout",
     "output_type": "stream",
     "text": [
      "MSE 1.111\n"
     ]
    }
   ],
   "source": [
    "predictions = []\n",
    "for index, d in valid.iterrows():\n",
    "    u, i = d['userID'], d['bookID']\n",
    "    if u in userBiases and i in itemBiases:\n",
    "        predictions.append(prediction(u, i))\n",
    "    else:\n",
    "        predictions.append(0)\n",
    "\n",
    "print(\"MSE %.3f\" % MSE(predictions, valid['rating']))"
   ]
  },
  {
   "cell_type": "markdown",
   "metadata": {},
   "source": [
    "#### Predicting on Test"
   ]
  },
  {
   "cell_type": "code",
   "execution_count": 77,
   "metadata": {},
   "outputs": [],
   "source": [
    "predictions = open(\"predictions_Rating.txt\", 'w')\n",
    "for l in open(\"./data/pairs_Rating.txt\"):\n",
    "    if l.startswith(\"userID\"):\n",
    "        #header\n",
    "        predictions.write(l)\n",
    "        continue\n",
    "    u, i = l.strip().split('-')\n",
    "    if u in userBiases and i in itemBiases:\n",
    "        predictions.write(u + '-' + i + ',' + str(prediction(u, i)) + '\\n')\n",
    "    else:\n",
    "        predictions.write(u + '-' + i + ',' + str(0) + '\\n')\n",
    "\n",
    "predictions.close()"
   ]
  },
  {
   "cell_type": "markdown",
   "metadata": {},
   "source": [
    "Finally, we got MSE=1.14702 on test set."
   ]
  }
 ],
 "metadata": {
  "kernelspec": {
   "display_name": "Python 3",
   "language": "python",
   "name": "python3"
  },
  "language_info": {
   "codemirror_mode": {
    "name": "ipython",
    "version": 3
   },
   "file_extension": ".py",
   "mimetype": "text/x-python",
   "name": "python",
   "nbconvert_exporter": "python",
   "pygments_lexer": "ipython3",
   "version": "3.7.1"
  }
 },
 "nbformat": 4,
 "nbformat_minor": 2
}
