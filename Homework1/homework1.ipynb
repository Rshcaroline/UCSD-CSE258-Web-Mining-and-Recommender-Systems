{
 "cells": [
  {
   "cell_type": "markdown",
   "metadata": {},
   "source": [
    " # Task -- Regression\n",
    " First, let’s see how ratings can be predicted as a function of (a) whether a review is a ‘verified purchase’, and (b) the length of the review (in characters)."
   ]
  },
  {
   "cell_type": "markdown",
   "metadata": {},
   "source": [
    " ## Problem 1\n",
    " What is the distribution of ratings in the dataset? That is, how many 1-star, 2-star, 3-star (etc.) reviews are there? You may write out the values or include a simple plot (1 mark)."
   ]
  },
  {
   "cell_type": "code",
   "execution_count": 5,
   "metadata": {},
   "outputs": [
    {
     "name": "stdout",
     "output_type": "stream",
     "text": [
      "# of Rows before drop NA value: \n",
      "148310\n",
      "# of Rows after drop NA value: \n",
      "148304\n"
     ]
    }
   ],
   "source": [
    "# ignore the warnings from Pandas\n",
    "import warnings\n",
    "warnings.filterwarnings(\"ignore\")\n",
    "\n",
    "import matplotlib.pyplot as plt\n",
    "import numpy as np\n",
    "import pandas as pd\n",
    "\n",
    "# read data and drop NA\n",
    "data = pd.read_csv('./amazon_reviews_us_Gift_Card_v1_00.tsv', delimiter='\\t')\n",
    "print(\"# of Rows before drop NA value: \")\n",
    "print(len(data))\n",
    "data = data.dropna()\n",
    "print(\"# of Rows after drop NA value: \")\n",
    "print(len(data))"
   ]
  },
  {
   "cell_type": "code",
   "execution_count": 6,
   "metadata": {},
   "outputs": [
    {
     "data": {
      "image/png": "[encoded data removed]",
      "text/plain": [
       "<Figure size 432x288 with 1 Axes>"
      ]
     },
     "metadata": {
      "needs_background": "light"
     },
     "output_type": "display_data"
    }
   ],
   "source": [
    "plt.hist(data['star_rating'], bins=[0,1,2,3,4,5,6], rwidth=0.8)\n",
    "plt.xticks(range(0, 7))\n",
    "plt.ylabel('Number of rating')\n",
    "plt.title(\"Distribution of Star Ratings\")\n",
    "plt.show()"
   ]
  },
  {
   "cell_type": "code",
   "execution_count": 7,
   "metadata": {},
   "outputs": [
    {
     "name": "stdout",
     "output_type": "stream",
     "text": [
      "The percent of 1-star: 3.2%\n",
      "The percent of 2-star: 1.1%\n",
      "The percent of 3-star: 2.1%\n",
      "The percent of 4-star: 6.6%\n",
      "The percent of 5-star: 87.0%\n"
     ]
    }
   ],
   "source": [
    "for i in range(1, 6):\n",
    "    print(\"The percent of %1d-star: %.1f%%\" % (i, (len(data[data['star_rating']==i])/len(data)*100)))"
   ]
  },
  {
   "cell_type": "markdown",
   "metadata": {},
   "source": [
    " We can see from the above plot and printout that most of ratings are 5-star (87%) while the least rating is 2-star (only 1%), which means this dataset is extremely unbalanced.\n",
    "\n",
    " The dataset only has 6 rows containing NA value and we decide to remove them from the data."
   ]
  },
  {
   "cell_type": "markdown",
   "metadata": {},
   "source": [
    " ## Problem 3\n",
    " Train a simple predictor to predict the star rating using two features:\n",
    "\n",
    " star_rating ≃ θ0 + θ1 × [review is verified] + θ2 × [review length].\n",
    "\n",
    " Report the values of θ0, θ1, and θ2. Briefly describe your interpretation of these values, i.e., what do θ0, θ1, and θ2 represent? Explain these in terms of the features and labels, e.g. if the coefficient of ‘review length’ is negative, what would that say about verified versus unverified reviews (1 mark)?"
   ]
  },
  {
   "cell_type": "code",
   "execution_count": 8,
   "metadata": {},
   "outputs": [],
   "source": [
    "# Data preprocessing\n",
    "data['verified_purchase_int'] = data.apply(lambda x: int(x['verified_purchase'] == \"Y\"), axis = 1)\n",
    "data['review_body_length'] = data.apply(lambda x: len(x['review_body']), axis = 1)\n",
    "data['theta_zero'] = 1"
   ]
  },
  {
   "cell_type": "code",
   "execution_count": 9,
   "metadata": {},
   "outputs": [
    {
     "name": "stdout",
     "output_type": "stream",
     "text": [
      "Theta0: 4.84502\n",
      "Theta1: 0.04987\n",
      "Theta2: -0.00125\n",
      "MSE: 0.651\n"
     ]
    }
   ],
   "source": [
    "# Define My Own Regression\n",
    "def myRegression(featureNames, labelName, data):\n",
    "    X, y = data[featureNames], data[labelName]\n",
    "    theta, residuals, rank, s = np.linalg.lstsq(X, y)\n",
    "    MSE = ((y - np.dot(X, theta))**2).mean()\n",
    "    for i in range(len(theta)):\n",
    "        print(\"Theta%1d: %.5f\" % (i, theta[i]))\n",
    "    print(\"MSE: %.3f\" % MSE)\n",
    "\n",
    "featureNames = ['theta_zero', 'verified_purchase_int', 'review_body_length']\n",
    "labelName = 'star_rating'\n",
    "myRegression(featureNames, labelName, data)"
   ]
  },
  {
   "cell_type": "markdown",
   "metadata": {},
   "source": [
    " We first convert \"verified_purchase\" from \"Y\" and \"N\" to \"1\" and \"0\" and calculate the length of \"review body\" in character as features.\n",
    "\n",
    " After define our own regression, we got three theta values $\\theta_0, \\theta_1, \\theta_2$ and MSE.\n",
    "\n",
    " $\\theta_0$ is a bias term, which means if there is no \"verified_purchase\" and \"review_body\" features, the predicted value of rating should be $\\theta_0$.\n",
    "\n",
    " $\\theta_1$ means the relationship between \"verified_purchase\" and \"star_rating\". If the purchase is verified, then the rating will increase by  $\\theta_1$.\n",
    "\n",
    " $\\theta_2$ means the relationship between the length of \"review_body\" in character and \"star_rating\". If the length increase by 1, then the rating will increase by  $\\theta_2$.\n",
    "\n",
    " In this case, an interesting fact is that $\\theta_2$ is a negative number, which means the more characters you write in your review, the lower rating you will rate this product. This fact is fun but reasonable since people will tend to write some bad reviews to complain when they are unsatisfied than to write some fancy words to praise when they are satisfied."
   ]
  },
  {
   "cell_type": "markdown",
   "metadata": {},
   "source": [
    " ## Problem 4\n",
    " Train another predictor that only uses one feature:\n",
    "\n",
    " star rating ≃ θ0 + θ1 × [review is verified]\n",
    "\n",
    " Report the values of θ0 and θ1. Note that coefficient you found here might be quite different (i.e., much larger or smaller) than the one from Question 3, even though these coefficients refer to the same feature. Provide an explanation as to why these coefficients might vary so significantly (1 mark).1"
   ]
  },
  {
   "cell_type": "code",
   "execution_count": 10,
   "metadata": {},
   "outputs": [
    {
     "name": "stdout",
     "output_type": "stream",
     "text": [
      "Theta0: 4.57811\n",
      "Theta1: 0.16796\n",
      "MSE: 0.685\n"
     ]
    }
   ],
   "source": [
    "featureNames = ['theta_zero', 'verified_purchase_int']\n",
    "labelName = 'star_rating'\n",
    "myRegression(featureNames, labelName, data)"
   ]
  },
  {
   "cell_type": "markdown",
   "metadata": {},
   "source": [
    " After removing the length of \"review_body\" features, compared with problem 3, the value of $\\theta_0$ decreases from 4.845 to 4.578,  and $\\theta_1$ increases from 0.0499 to 0.1679.\n",
    "\n",
    " For $\\theta_0$, this time it can be interpreted as the predicted value of rating score when the \"verified_purchase\" feature is 0. Compared with problem 3, as we know, if the length of \"review_body\" increases, the rating should decrease. So $\\theta_0$ in problem 3 should be bigger than the one in problem 4 since the length of \"review_body\" is always bigger than or equal to 0 (so that it can offset the decrease aroused by review body).\n",
    "\n",
    " For $\\theta_1$, it still means the relationship between \"verified_purchase\" and \"star_rating\". If the purchase is verified, then the rating will increase by  $\\theta_1$. But, as we noticed, if \"verified_purchase\" is 1, the predicted rating is $\\theta_0+\\theta_1$, and since $\\theta_0$ decreases a lot, to compensate for this, $\\theta_1$ should increase accordingly."
   ]
  },
  {
   "cell_type": "markdown",
   "metadata": {},
   "source": [
    " ## Problem 5\n",
    " Split the data into two fractions – the first 90% for training, and the remaining 10% testing (based on the order they appear in the file). Train the same model as above on the training set only. What is the model’s MSE on the training and on the test set (1 mark)?"
   ]
  },
  {
   "cell_type": "code",
   "execution_count": 11,
   "metadata": {},
   "outputs": [],
   "source": [
    "def myRegression(featureNames, labelName, dataTrain, dataTest):\n",
    "    X, y = dataTrain[featureNames], dataTrain[labelName]\n",
    "    theta, residuals, rank, s = np.linalg.lstsq(X, y)\n",
    "    print(\"================ Training ================\")\n",
    "    MSE = ((y - np.dot(X, theta))**2).mean()\n",
    "    for i in range(len(theta)):\n",
    "        print(\"Theta%1d: %.5f\" % (i, theta[i]))\n",
    "    print(\"MSE: %.3f\" % MSE)\n",
    "    print(\"================ Testing ================\")\n",
    "    X, y = dataTest[featureNames], dataTest[labelName]\n",
    "    MSE = ((y - np.dot(X, theta))**2).mean()\n",
    "    print(\"MSE: %.3f\" % MSE)\n",
    "\n",
    "def trainByRatio(ratio, data, featureNames, labelName):\n",
    "    train = data[:int(len(data)*ratio)]\n",
    "    test = data[int(len(data)*ratio):]\n",
    "    print(\"================ For ratio \", ratio, \"================\")\n",
    "    myRegression(featureNames, labelName, train, test)"
   ]
  },
  {
   "cell_type": "code",
   "execution_count": 12,
   "metadata": {},
   "outputs": [
    {
     "name": "stdout",
     "output_type": "stream",
     "text": [
      "================ For ratio  0.9 ================\n",
      "================ Training ================\n",
      "Theta0: 4.43958\n",
      "Theta1: 0.31645\n",
      "MSE: 0.656\n",
      "================ Testing ================\n",
      "MSE: 0.972\n"
     ]
    }
   ],
   "source": [
    "trainByRatio(0.9, data, featureNames, labelName)"
   ]
  },
  {
   "cell_type": "markdown",
   "metadata": {},
   "source": [
    " ## Problem 6\n",
    " Repeat the above experiment, varying the size of the training and test fractions between\n",
    " 5% and 95% for training (using the complement for testing). Show how the training and test error vary\n",
    " as a function of the training set size (again using a simple plot or table). Does the size of the training\n",
    " set make a significant difference in testing performance? Comment on why it might or might not make\n",
    " a significant difference in this instance (2 marks)."
   ]
  },
  {
   "cell_type": "code",
   "execution_count": 13,
   "metadata": {},
   "outputs": [
    {
     "data": {
      "image/png": "[encoded data removed]",
      "text/plain": [
       "<Figure size 432x288 with 1 Axes>"
      ]
     },
     "metadata": {
      "needs_background": "light"
     },
     "output_type": "display_data"
    }
   ],
   "source": [
    "# To plot a graph, let's revise the function slightly so that we can store the MSE in a list\n",
    "def myRegression(featureNames, labelName, dataTrain, dataTest, trainMSE, testMSE):\n",
    "    # Training\n",
    "    X, y = dataTrain[featureNames], dataTrain[labelName]\n",
    "    theta, residuals, rank, s = np.linalg.lstsq(X, y)\n",
    "    MSE = ((y - np.dot(X, theta))**2).mean()\n",
    "    trainMSE.append(MSE)\n",
    "    # Testing\n",
    "    X, y = dataTest[featureNames], dataTest[labelName]\n",
    "    MSE = ((y - np.dot(X, theta))**2).mean()\n",
    "    testMSE.append(MSE)\n",
    "\n",
    "def trainByRatio(ratio, data, featureNames, labelName, trainMSE, testMSE):\n",
    "    train = data[:int(len(data)*ratio)]\n",
    "    test = data[int(len(data)*ratio):]\n",
    "    myRegression(featureNames, labelName, train, test, trainMSE, testMSE)\n",
    "\n",
    "trainMSE, testMSE = [], []\n",
    "# ratio from 5% to 95%, step by 5%\n",
    "ratios = [i/100 for i in list(range(5, 100, 5))]\n",
    "\n",
    "for ratio in ratios:\n",
    "    trainByRatio(ratio, data, featureNames, labelName, trainMSE, testMSE)\n",
    "\n",
    "# plot a graph\n",
    "plt.plot(ratios, trainMSE, 'r^-', label='Train MSE')\n",
    "plt.plot(ratios, testMSE, 'g*-', label='Test MSE')\n",
    "plt.title('MSE with different ratio of Train-Test split')\n",
    "plt.xlabel('Ratio of Training data')\n",
    "plt.ylabel('MSE')\n",
    "plt.legend()\n",
    "plt.show()"
   ]
  },
  {
   "cell_type": "markdown",
   "metadata": {},
   "source": [
    " Yes. As we can see from the plot, the size of the training set makes a significant difference in testing performance. As we increase the training size, however, the test performance decreases. This isn't normal and may be due to the extremely unbalanced nature of this dataset. The star rating label may vary a lot between the training set and testing set as the ratio increases.\n",
    "\n",
    " The following plot proves our thought."
   ]
  },
  {
   "cell_type": "code",
   "execution_count": 14,
   "metadata": {},
   "outputs": [
    {
     "data": {
      "image/png": "[encoded data removed]",
      "text/plain": [
       "<Figure size 432x288 with 1 Axes>"
      ]
     },
     "metadata": {
      "needs_background": "light"
     },
     "output_type": "display_data"
    }
   ],
   "source": [
    "def calculatePortionOfFiveStars(ratio, data, trainPortion, testPortion):\n",
    "    train = data[:int(len(data)*ratio)]\n",
    "    test = data[int(len(data)*ratio):]\n",
    "    trainPortion.append(len(train[train['star_rating']==i])/len(train)*100)\n",
    "    testPortion.append(len(test[test['star_rating']==i])/len(test)*100)\n",
    "\n",
    "trainPortion, testPortion = [], []\n",
    "# ratio from 5% to 95%, step by 5%\n",
    "ratios = [i/100 for i in list(range(5, 100, 5))]\n",
    "\n",
    "for ratio in ratios:\n",
    "    calculatePortionOfFiveStars(ratio, data, trainPortion, testPortion)\n",
    "\n",
    "# plot a graph\n",
    "plt.plot(ratios, trainPortion, 'r^-', label='Training data')\n",
    "plt.plot(ratios, testPortion, 'g*-', label='Testing data')\n",
    "plt.title('%% of 5-star ratings in Training/Testing data as ratio varies')\n",
    "plt.xlabel('Ratio')\n",
    "plt.ylabel('%% of 5-star ratings')\n",
    "plt.legend()\n",
    "plt.show()"
   ]
  },
  {
   "cell_type": "markdown",
   "metadata": {},
   "source": [
    " # Task -- Classification\n",
    " In this question we’ll alter the prediction from our regression task, so that we are now classifying whether a review is verified. Continue using the 90%/10% training and test sets you constructed previously, i.e., train on the training set and report the error/accuracy on the testing set."
   ]
  },
  {
   "cell_type": "markdown",
   "metadata": {},
   "source": [
    " ## Problem 8\n",
    " First, let’s train a predictor that estimates whether a review is verified using the rating and the length:\n",
    "\n",
    " p(review is verified) ≃ σ(θ0 + θ1 × [star rating] + θ2 × [review length])\n",
    "\n",
    " Train a logistic regressor to make the above prediction (you may use a logistic regression library with default parameters, e.g. linear model.LogisticRegression() from sklearn). Report the classification accuracy of this predictor. Report also the proportion of labels that are positive (i.e., the proportion of reviews that are verified) and the proportion of predictions that are positive (1 mark)."
   ]
  },
  {
   "cell_type": "code",
   "execution_count": 15,
   "metadata": {},
   "outputs": [
    {
     "name": "stdout",
     "output_type": "stream",
     "text": [
      "================ For ratio  0.9 ================\n",
      "================ Training ================\n",
      "Accuracy:  0.9511736456062275\n",
      "Proportion of reviews that are verified: 100.00%\n",
      "Proportion of predictions that are positive: 99.96%\n",
      "================ Testing ================\n",
      "Accuracy:  0.5597734475085968\n",
      "Proportion of reviews that are verified: 100.00%\n",
      "Proportion of predictions that are positive: 99.90%\n"
     ]
    }
   ],
   "source": [
    "# Define My Own Classification\n",
    "from sklearn.linear_model import LogisticRegression\n",
    "\n",
    "def myClassification(featureNames, labelName, dataTrain, dataTest):\n",
    "    X, y = dataTrain[featureNames], dataTrain[labelName]\n",
    "    clf = LogisticRegression().fit(X, y)\n",
    "    y_ = clf.predict(X)\n",
    "    print(\"================ Training ================\")\n",
    "    print(\"Accuracy: \", clf.score(X, y))\n",
    "    print(\"Proportion of reviews that are verified: %.2f%%\" % (len(dataTrain[dataTrain[featureNames]==1])/len(dataTrain)*100))\n",
    "    print(\"Proportion of predictions that are positive: %.2f%%\" % (np.mean(y_==1)*100))\n",
    "    print(\"================ Testing ================\")\n",
    "    X, y = dataTest[featureNames], dataTest[labelName]\n",
    "    y_ = clf.predict(X)\n",
    "    print(\"Accuracy: \", clf.score(X, y))\n",
    "    print(\"Proportion of reviews that are verified: %.2f%%\" % (len(dataTest[dataTest[featureNames]==1])/len(dataTest)*100))\n",
    "    print(\"Proportion of predictions that are positive: %.2f%%\" % (np.mean(y_==1)*100))\n",
    "\n",
    "def trainByRatio(ratio, data, featureNames, labelName):\n",
    "    train = data[:int(len(data)*ratio)]\n",
    "    test = data[int(len(data)*ratio):]\n",
    "    print(\"================ For ratio \", ratio, \"================\")\n",
    "    myClassification(featureNames, labelName, train, test)\n",
    "\n",
    "featureNames = ['theta_zero', 'star_rating', 'review_body_length']\n",
    "labelName = 'verified_purchase_int'\n",
    "ratio = 0.9\n",
    "trainByRatio(ratio, data, featureNames, labelName)"
   ]
  },
  {
   "cell_type": "markdown",
   "metadata": {},
   "source": [
    " ## Problem 9\n",
    " Considering same prediction problem as above, can you come up with a more accurate predictor (e.g. using features from the text, timestamp, etc.)? Write down the feature vector you design, and report its train/test accuracy (1 mark)."
   ]
  },
  {
   "cell_type": "code",
   "execution_count": 16,
   "metadata": {},
   "outputs": [
    {
     "name": "stdout",
     "output_type": "stream",
     "text": [
      "['US']\n",
      "['Gift Card']\n",
      "['N']\n"
     ]
    }
   ],
   "source": [
    "# Let's do some analysis for other features first\n",
    "print(data['marketplace'].unique())\n",
    "print(data['product_category'].unique())\n",
    "print(data['vine'].unique())"
   ]
  },
  {
   "cell_type": "markdown",
   "metadata": {},
   "source": [
    " As we can see from above, there are no big differences between these features."
   ]
  },
  {
   "cell_type": "code",
   "execution_count": 17,
   "metadata": {},
   "outputs": [
    {
     "data": {
      "image/png": "[encoded data removed]",
      "text/plain": [
       "<Figure size 432x288 with 1 Axes>"
      ]
     },
     "metadata": {
      "needs_background": "light"
     },
     "output_type": "display_data"
    }
   ],
   "source": [
    "plt.hist(data['total_votes'], log=True, color='y',rwidth=0.8, label='Total Votes')\n",
    "plt.hist(data['helpful_votes'], log=True, rwidth=0.8, label='Helpful Votes')\n",
    "plt.ylabel('Number of votes')\n",
    "plt.legend()\n",
    "plt.show()"
   ]
  },
  {
   "cell_type": "code",
   "execution_count": 21,
   "metadata": {},
   "outputs": [
    {
     "name": "stdout",
     "output_type": "stream",
     "text": [
      "================ For ratio  0.9 ================\n",
      "================ Training ================\n",
      "Accuracy:  0.9512111063660815\n",
      "Proportion of reviews that are verified: 100.00%\n",
      "Proportion of predictions that are positive: 99.96%\n",
      "================ Testing ================\n",
      "Accuracy:  0.5601105791922325\n",
      "Proportion of reviews that are verified: 100.00%\n",
      "Proportion of predictions that are positive: 99.80%\n"
     ]
    }
   ],
   "source": [
    "featureNames = ['theta_zero', 'star_rating', 'review_body_length', 'total_votes', 'helpful_votes']\n",
    "labelName = 'verified_purchase_int'\n",
    "ratio = 0.9\n",
    "trainByRatio(ratio, data, featureNames, labelName)"
   ]
  },
  {
   "cell_type": "markdown",
   "metadata": {},
   "source": [
    "By adding 'total_votes' and 'helpful_votes' as features, the accuracy increased a little bit. But that's not enough."
   ]
  },
  {
   "cell_type": "markdown",
   "metadata": {},
   "source": [
    " In problem 7 and problem 8, we both noticed that the distribution of our dataset is extremely unbalanced.\n",
    "\n",
    " One realistic solution is to shuffle the dataset so that the distribution can be more balanced! And the results suddenly become promising. Congrats!"
   ]
  },
  {
   "cell_type": "code",
   "execution_count": 22,
   "metadata": {},
   "outputs": [
    {
     "name": "stdout",
     "output_type": "stream",
     "text": [
      "================ For ratio  0.9 ================\n",
      "================ Training ================\n",
      "Accuracy:  0.9102664958456017\n",
      "Proportion of reviews that are verified: 100.00%\n",
      "Proportion of predictions that are positive: 99.62%\n",
      "================ Testing ================\n",
      "Accuracy:  0.9135594363158249\n",
      "Proportion of reviews that are verified: 100.00%\n",
      "Proportion of predictions that are positive: 99.58%\n"
     ]
    }
   ],
   "source": [
    "data = data.sample(frac=1)\n",
    "featureNames = ['theta_zero', 'star_rating', 'review_body_length', 'total_votes', 'helpful_votes']\n",
    "labelName = 'verified_purchase_int'\n",
    "ratio = 0.9\n",
    "trainByRatio(ratio, data, featureNames, labelName)"
   ]
  }
 ],
 "metadata": {
  "file_extension": ".py",
  "kernelspec": {
   "display_name": "Python 3",
   "language": "python",
   "name": "python3"
  },
  "language_info": {
   "codemirror_mode": {
    "name": "ipython",
    "version": 3
   },
   "file_extension": ".py",
   "mimetype": "text/x-python",
   "name": "python",
   "nbconvert_exporter": "python",
   "pygments_lexer": "ipython3",
   "version": "3.7.1"
  },
  "mimetype": "text/x-python",
  "name": "python",
  "npconvert_exporter": "python",
  "pygments_lexer": "ipython3",
  "version": 3
 },
 "nbformat": 4,
 "nbformat_minor": 2
}
